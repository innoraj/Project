{
  "nbformat": 4,
  "nbformat_minor": 0,
  "metadata": {
    "colab": {
      "name": "Ensemble Dataset2.ipynb",
      "version": "0.3.2",
      "provenance": [],
      "collapsed_sections": []
    },
    "kernelspec": {
      "name": "python3",
      "display_name": "Python 3"
    }
  },
  "cells": [
    {
      "cell_type": "markdown",
      "metadata": {
        "colab_type": "text",
        "id": "pYRn7q5E2oIz"
      },
      "source": [
        "**Bagging Decision Tree Algorithm**"
      ]
    },
    {
      "cell_type": "code",
      "metadata": {
        "colab_type": "code",
        "id": "seWQ8wMe2oI6",
        "colab": {}
      },
      "source": [
        "import pandas as pd\n",
        "\n",
        "from sklearn import model_selection\n",
        "from sklearn.ensemble import BaggingClassifier\n",
        "from sklearn.tree import DecisionTreeClassifier\n",
        "from sklearn.ensemble import RandomForestClassifier\n",
        "from sklearn.ensemble import ExtraTreesClassifier\n",
        "from sklearn.ensemble import AdaBoostClassifier\n",
        "from sklearn.ensemble import GradientBoostingClassifier\n",
        "from sklearn.linear_model import LogisticRegression\n",
        "from sklearn.svm import SVC\n",
        "from sklearn.ensemble import VotingClassifier\n",
        "\n",
        "data = pd.read_csv('https://raw.githubusercontent.com/innoraj/Project/master/Dataset2.csv')\n",
        "data.dropna(inplace=True)\n",
        "\n",
        "X = data.iloc[:,0:15]  # Independent Variables\n",
        "Y = data.iloc[:,-1]    # Target Variable"
      ],
      "execution_count": 0,
      "outputs": []
    },
    {
      "cell_type": "code",
      "metadata": {
        "colab_type": "code",
        "outputId": "5564ea05-7925-47f3-912d-a78b52fb53b8",
        "id": "DnRnjggE2oI-",
        "colab": {
          "base_uri": "https://localhost:8080/",
          "height": 34
        }
      },
      "source": [
        "kfold = model_selection.KFold(n_splits=10, random_state=5)\n",
        "\n",
        "cart = DecisionTreeClassifier()\n",
        "\n",
        "model = BaggingClassifier(base_estimator=cart, n_estimators=100, random_state=5)\n",
        "\n",
        "results = model_selection.cross_val_score(model, X, Y, cv=kfold)\n",
        "\n",
        "print(\"Accuracy - \", results.mean()*100)\n",
        "\n",
        "BaggingDecisionTree = results.mean()*100"
      ],
      "execution_count": 0,
      "outputs": [
        {
          "output_type": "stream",
          "text": [
            "Accuracy -  84.36237742345986\n"
          ],
          "name": "stdout"
        }
      ]
    },
    {
      "cell_type": "markdown",
      "metadata": {
        "colab_type": "text",
        "id": "keOXboCs2oJD"
      },
      "source": [
        "**Random Forest Algorithm**"
      ]
    },
    {
      "cell_type": "code",
      "metadata": {
        "colab_type": "code",
        "outputId": "c86b3a82-ad1a-4a5d-d7d7-5ea6395ac876",
        "id": "z3fXFzlA2oJE",
        "colab": {
          "base_uri": "https://localhost:8080/",
          "height": 34
        }
      },
      "source": [
        "kfold = model_selection.KFold(n_splits=10, random_state=5)\n",
        "\n",
        "model = RandomForestClassifier(n_estimators=100, max_features=3)\n",
        "\n",
        "results = model_selection.cross_val_score(model, X, Y, cv=kfold)\n",
        "\n",
        "print(\"Accuracy - \",results.mean()*100)\n",
        "\n",
        "RandomForest = results.mean()*100"
      ],
      "execution_count": 0,
      "outputs": [
        {
          "output_type": "stream",
          "text": [
            "Accuracy -  84.66307358335203\n"
          ],
          "name": "stdout"
        }
      ]
    },
    {
      "cell_type": "markdown",
      "metadata": {
        "colab_type": "text",
        "id": "rNpIchDA2oJI"
      },
      "source": [
        "**Extra Trees Algorithm**"
      ]
    },
    {
      "cell_type": "code",
      "metadata": {
        "colab_type": "code",
        "outputId": "2fbb160a-a9b2-455c-b36d-b5abc15bd1ce",
        "id": "3qRt-6Ey2oJJ",
        "colab": {
          "base_uri": "https://localhost:8080/",
          "height": 34
        }
      },
      "source": [
        "kfold = model_selection.KFold(n_splits=10, random_state=5)\n",
        "\n",
        "model = ExtraTreesClassifier(n_estimators=100, max_features=7)\n",
        "\n",
        "results = model_selection.cross_val_score(model, X, Y, cv=kfold)\n",
        "\n",
        "print(\"Accuracy - \",results.mean()*100)\n",
        "\n",
        "ExtraTrees = results.mean()*100"
      ],
      "execution_count": 0,
      "outputs": [
        {
          "output_type": "stream",
          "text": [
            "Accuracy -  84.60865334231605\n"
          ],
          "name": "stdout"
        }
      ]
    },
    {
      "cell_type": "markdown",
      "metadata": {
        "colab_type": "text",
        "id": "88paWwwb2oJM"
      },
      "source": [
        "**Boosting Algorithm**"
      ]
    },
    {
      "cell_type": "code",
      "metadata": {
        "colab_type": "code",
        "outputId": "d286aa6f-5430-4ef1-8a88-a7544528217c",
        "id": "zhmU5xRE2oJN",
        "colab": {
          "base_uri": "https://localhost:8080/",
          "height": 34
        }
      },
      "source": [
        "kfold = model_selection.KFold(n_splits=10, random_state=5)\n",
        "\n",
        "model = AdaBoostClassifier(n_estimators=30, random_state=5)\n",
        "\n",
        "results = model_selection.cross_val_score(model, X, Y, cv=kfold)\n",
        "\n",
        "print(\"Accuracy - \", results.mean()*100)\n",
        "\n",
        "AdaBoost = results.mean()*100"
      ],
      "execution_count": 0,
      "outputs": [
        {
          "output_type": "stream",
          "text": [
            "Accuracy -  84.69032113182125\n"
          ],
          "name": "stdout"
        }
      ]
    },
    {
      "cell_type": "markdown",
      "metadata": {
        "colab_type": "text",
        "id": "iCYLbmOt2oJQ"
      },
      "source": [
        "**Ada Boost**"
      ]
    },
    {
      "cell_type": "markdown",
      "metadata": {
        "colab_type": "text",
        "id": "zRPS3Ey12oJR"
      },
      "source": [
        "**Stochastic Gradient Boosting**"
      ]
    },
    {
      "cell_type": "code",
      "metadata": {
        "colab_type": "code",
        "outputId": "a128cbbb-9280-418e-8c81-f10fe31125fa",
        "id": "roHr2Y9P2oJS",
        "colab": {
          "base_uri": "https://localhost:8080/",
          "height": 34
        }
      },
      "source": [
        "kfold = model_selection.KFold(n_splits=10, random_state=5)\n",
        "\n",
        "model = GradientBoostingClassifier(n_estimators=100, random_state=5)\n",
        "\n",
        "results = model_selection.cross_val_score(model, X, Y, cv=kfold)\n",
        "\n",
        "print(\"Accuracy - \",results.mean()*100)\n",
        "\n",
        "StochasticGradientBoosting = results.mean()*100"
      ],
      "execution_count": 0,
      "outputs": [
        {
          "output_type": "stream",
          "text": [
            "Accuracy -  84.58103151433491\n"
          ],
          "name": "stdout"
        }
      ]
    },
    {
      "cell_type": "markdown",
      "metadata": {
        "colab_type": "text",
        "id": "suzln6aR2oJX"
      },
      "source": [
        "**Voting Ensemble**"
      ]
    },
    {
      "cell_type": "code",
      "metadata": {
        "colab_type": "code",
        "outputId": "808cf6c4-dcda-41e1-94ca-94243269ad3f",
        "id": "G-ROdHZo2oJY",
        "colab": {
          "base_uri": "https://localhost:8080/",
          "height": 734
        }
      },
      "source": [
        "kfold = model_selection.KFold(n_splits=10, random_state=5)\n",
        "\n",
        "estimators = []\n",
        "\n",
        "model_1 = LogisticRegression()\n",
        "estimators.append(('logistic', model_1))\n",
        "\n",
        "model_2 = DecisionTreeClassifier()\n",
        "estimators.append(('cart', model_2))\n",
        "\n",
        "model_3 = SVC()\n",
        "estimators.append(('svm', model_3))\n",
        "\n",
        "ensemble = VotingClassifier(estimators)\n",
        "results = model_selection.cross_val_score(ensemble, X, Y, cv=kfold)\n",
        "\n",
        "print(\"Accuracy - \",results.mean()*100)\n",
        "\n",
        "VotingEnsemble = results.mean()*100"
      ],
      "execution_count": 0,
      "outputs": [
        {
          "output_type": "stream",
          "text": [
            "/usr/local/lib/python3.6/dist-packages/sklearn/linear_model/logistic.py:432: FutureWarning: Default solver will be changed to 'lbfgs' in 0.22. Specify a solver to silence this warning.\n",
            "  FutureWarning)\n",
            "/usr/local/lib/python3.6/dist-packages/sklearn/svm/base.py:193: FutureWarning: The default value of gamma will change from 'auto' to 'scale' in version 0.22 to account better for unscaled features. Set gamma explicitly to 'auto' or 'scale' to avoid this warning.\n",
            "  \"avoid this warning.\", FutureWarning)\n",
            "/usr/local/lib/python3.6/dist-packages/sklearn/linear_model/logistic.py:432: FutureWarning: Default solver will be changed to 'lbfgs' in 0.22. Specify a solver to silence this warning.\n",
            "  FutureWarning)\n",
            "/usr/local/lib/python3.6/dist-packages/sklearn/svm/base.py:193: FutureWarning: The default value of gamma will change from 'auto' to 'scale' in version 0.22 to account better for unscaled features. Set gamma explicitly to 'auto' or 'scale' to avoid this warning.\n",
            "  \"avoid this warning.\", FutureWarning)\n",
            "/usr/local/lib/python3.6/dist-packages/sklearn/linear_model/logistic.py:432: FutureWarning: Default solver will be changed to 'lbfgs' in 0.22. Specify a solver to silence this warning.\n",
            "  FutureWarning)\n",
            "/usr/local/lib/python3.6/dist-packages/sklearn/svm/base.py:193: FutureWarning: The default value of gamma will change from 'auto' to 'scale' in version 0.22 to account better for unscaled features. Set gamma explicitly to 'auto' or 'scale' to avoid this warning.\n",
            "  \"avoid this warning.\", FutureWarning)\n",
            "/usr/local/lib/python3.6/dist-packages/sklearn/linear_model/logistic.py:432: FutureWarning: Default solver will be changed to 'lbfgs' in 0.22. Specify a solver to silence this warning.\n",
            "  FutureWarning)\n",
            "/usr/local/lib/python3.6/dist-packages/sklearn/svm/base.py:193: FutureWarning: The default value of gamma will change from 'auto' to 'scale' in version 0.22 to account better for unscaled features. Set gamma explicitly to 'auto' or 'scale' to avoid this warning.\n",
            "  \"avoid this warning.\", FutureWarning)\n",
            "/usr/local/lib/python3.6/dist-packages/sklearn/linear_model/logistic.py:432: FutureWarning: Default solver will be changed to 'lbfgs' in 0.22. Specify a solver to silence this warning.\n",
            "  FutureWarning)\n",
            "/usr/local/lib/python3.6/dist-packages/sklearn/svm/base.py:193: FutureWarning: The default value of gamma will change from 'auto' to 'scale' in version 0.22 to account better for unscaled features. Set gamma explicitly to 'auto' or 'scale' to avoid this warning.\n",
            "  \"avoid this warning.\", FutureWarning)\n",
            "/usr/local/lib/python3.6/dist-packages/sklearn/linear_model/logistic.py:432: FutureWarning: Default solver will be changed to 'lbfgs' in 0.22. Specify a solver to silence this warning.\n",
            "  FutureWarning)\n",
            "/usr/local/lib/python3.6/dist-packages/sklearn/svm/base.py:193: FutureWarning: The default value of gamma will change from 'auto' to 'scale' in version 0.22 to account better for unscaled features. Set gamma explicitly to 'auto' or 'scale' to avoid this warning.\n",
            "  \"avoid this warning.\", FutureWarning)\n",
            "/usr/local/lib/python3.6/dist-packages/sklearn/linear_model/logistic.py:432: FutureWarning: Default solver will be changed to 'lbfgs' in 0.22. Specify a solver to silence this warning.\n",
            "  FutureWarning)\n",
            "/usr/local/lib/python3.6/dist-packages/sklearn/svm/base.py:193: FutureWarning: The default value of gamma will change from 'auto' to 'scale' in version 0.22 to account better for unscaled features. Set gamma explicitly to 'auto' or 'scale' to avoid this warning.\n",
            "  \"avoid this warning.\", FutureWarning)\n",
            "/usr/local/lib/python3.6/dist-packages/sklearn/linear_model/logistic.py:432: FutureWarning: Default solver will be changed to 'lbfgs' in 0.22. Specify a solver to silence this warning.\n",
            "  FutureWarning)\n",
            "/usr/local/lib/python3.6/dist-packages/sklearn/svm/base.py:193: FutureWarning: The default value of gamma will change from 'auto' to 'scale' in version 0.22 to account better for unscaled features. Set gamma explicitly to 'auto' or 'scale' to avoid this warning.\n",
            "  \"avoid this warning.\", FutureWarning)\n",
            "/usr/local/lib/python3.6/dist-packages/sklearn/linear_model/logistic.py:432: FutureWarning: Default solver will be changed to 'lbfgs' in 0.22. Specify a solver to silence this warning.\n",
            "  FutureWarning)\n",
            "/usr/local/lib/python3.6/dist-packages/sklearn/svm/base.py:193: FutureWarning: The default value of gamma will change from 'auto' to 'scale' in version 0.22 to account better for unscaled features. Set gamma explicitly to 'auto' or 'scale' to avoid this warning.\n",
            "  \"avoid this warning.\", FutureWarning)\n",
            "/usr/local/lib/python3.6/dist-packages/sklearn/linear_model/logistic.py:432: FutureWarning: Default solver will be changed to 'lbfgs' in 0.22. Specify a solver to silence this warning.\n",
            "  FutureWarning)\n",
            "/usr/local/lib/python3.6/dist-packages/sklearn/svm/base.py:193: FutureWarning: The default value of gamma will change from 'auto' to 'scale' in version 0.22 to account better for unscaled features. Set gamma explicitly to 'auto' or 'scale' to avoid this warning.\n",
            "  \"avoid this warning.\", FutureWarning)\n"
          ],
          "name": "stderr"
        },
        {
          "output_type": "stream",
          "text": [
            "Accuracy -  85.18287296953363\n"
          ],
          "name": "stdout"
        }
      ]
    },
    {
      "cell_type": "markdown",
      "metadata": {
        "colab_type": "text",
        "id": "yf5kp_192oJd"
      },
      "source": [
        "**Ensemble Models**"
      ]
    },
    {
      "cell_type": "code",
      "metadata": {
        "colab_type": "code",
        "outputId": "26bb09fd-2e91-4f2a-86eb-9a4e70290cac",
        "id": "E7IE-USL2oJe",
        "colab": {
          "base_uri": "https://localhost:8080/",
          "height": 608
        }
      },
      "source": [
        "import matplotlib.pyplot as plt; plt.rcdefaults()\n",
        "import numpy as np\n",
        "import matplotlib.pyplot as plt\n",
        "from google.colab import files\n",
        "objects = ('Decision Tree','Random Forest ','Extra Trees','Ada Boost','Stochastic Gradient Boosting','Voting Ensemble')\n",
        "y_pos = np.arange(len(objects))\n",
        "performance = [BaggingDecisionTree, RandomForest , ExtraTrees, AdaBoost, StochasticGradientBoosting, VotingEnsemble]\n",
        "plt.bar(y_pos, performance, align='center', alpha=0.5,color='blue') \n",
        "plt.xticks(y_pos, objects,rotation=45)\n",
        "plt.ylabel('Accuracy')\n",
        "plt.title('Ensemble Models Dataset 2')\n",
        "plt.show()\n",
        "plt.savefig(\"Accuracy Ensemble Models Dataset 2.png\")\n",
        "files.download(\"Accuracy Ensemble Models Dataset 2.png\")"
      ],
      "execution_count": 0,
      "outputs": [
        {
          "output_type": "display_data",
          "data": {
            "image/png": "[encoded data removed]",
            "text/plain": [
              "<Figure size 640x480 with 1 Axes>"
            ]
          },
          "metadata": {
            "tags": []
          }
        },
        {
          "output_type": "display_data",
          "data": {
            "text/plain": [
              "<Figure size 640x480 with 0 Axes>"
            ]
          },
          "metadata": {
            "tags": []
          }
        }
      ]
    },
    {
      "cell_type": "code",
      "metadata": {
        "colab_type": "code",
        "outputId": "773e7f23-f9dc-4602-ecf4-c6e528f36689",
        "id": "1t94bvrz2oJl",
        "colab": {
          "base_uri": "https://localhost:8080/",
          "height": 266
        }
      },
      "source": [
        "results = pd.DataFrame({'Model': ['Decision Tree','Random Forest','Extra Trees','Ada Boost','Stochastic Gradient Boosting','Voting Ensemble'],\n",
        "                        'Accuracy': [BaggingDecisionTree, RandomForest , ExtraTrees, AdaBoost, StochasticGradientBoosting, VotingEnsemble]})\n",
        "result_df = results.sort_values(by='Accuracy', ascending=False)\n",
        "result_df = result_df.set_index('Accuracy')\n",
        "result_df.head(8)"
      ],
      "execution_count": 0,
      "outputs": [
        {
          "output_type": "execute_result",
          "data": {
            "text/html": [
              "<div>\n",
              "<style scoped>\n",
              "    .dataframe tbody tr th:only-of-type {\n",
              "        vertical-align: middle;\n",
              "    }\n",
              "\n",
              "    .dataframe tbody tr th {\n",
              "        vertical-align: top;\n",
              "    }\n",
              "\n",
              "    .dataframe thead th {\n",
              "        text-align: right;\n",
              "    }\n",
              "</style>\n",
              "<table border=\"1\" class=\"dataframe\">\n",
              "  <thead>\n",
              "    <tr style=\"text-align: right;\">\n",
              "      <th></th>\n",
              "      <th>Model</th>\n",
              "    </tr>\n",
              "    <tr>\n",
              "      <th>Accuracy</th>\n",
              "      <th></th>\n",
              "    </tr>\n",
              "  </thead>\n",
              "  <tbody>\n",
              "    <tr>\n",
              "      <th>85.182873</th>\n",
              "      <td>Voting Ensemble</td>\n",
              "    </tr>\n",
              "    <tr>\n",
              "      <th>84.690321</th>\n",
              "      <td>Ada Boost</td>\n",
              "    </tr>\n",
              "    <tr>\n",
              "      <th>84.663074</th>\n",
              "      <td>Random Forest</td>\n",
              "    </tr>\n",
              "    <tr>\n",
              "      <th>84.608653</th>\n",
              "      <td>Extra Trees</td>\n",
              "    </tr>\n",
              "    <tr>\n",
              "      <th>84.581032</th>\n",
              "      <td>Stochastic Gradient Boosting</td>\n",
              "    </tr>\n",
              "    <tr>\n",
              "      <th>84.362377</th>\n",
              "      <td>Decision Tree</td>\n",
              "    </tr>\n",
              "  </tbody>\n",
              "</table>\n",
              "</div>"
            ],
            "text/plain": [
              "                                  Model\n",
              "Accuracy                               \n",
              "85.182873               Voting Ensemble\n",
              "84.690321                     Ada Boost\n",
              "84.663074                 Random Forest\n",
              "84.608653                   Extra Trees\n",
              "84.581032  Stochastic Gradient Boosting\n",
              "84.362377                 Decision Tree"
            ]
          },
          "metadata": {
            "tags": []
          },
          "execution_count": 28
        }
      ]
    }
  ]
}