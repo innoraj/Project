{
 "cells": [
  {
   "cell_type": "code",
   "execution_count": null,
   "metadata": {},
   "outputs": [],
   "source": [
    "import time\n",
    "start = time.time()\n",
    "import pandas as pd\n",
    "from sklearn.model_selection import train_test_split\n",
    "from sklearn.linear_model import LogisticRegression\n",
    "data = pd.read_csv(\"C:/Users/shanmugaraj/Dropbox/Project Files/Dataset1.csv\")\n",
    "X = data.drop(['cardio'], axis=1)\n",
    "y = data.cardio.copy()\n",
    "X_train, X_test, y_train, y_test = train_test_split(X, y, train_size=.8)\n",
    "model = LogisticRegression()\n",
    "model.fit(X_train, y_train)\n",
    "end = time.time()\n",
    "print(\"Execution time in Seconds \", end-start)\n",
    "print(\"Accuracy \", model.score(X_test, y_test))"
   ]
  },
  {
   "cell_type": "code",
   "execution_count": null,
   "metadata": {},
   "outputs": [],
   "source": [
    "import time\n",
    "start = time.time()\n",
    "import pandas as pd\n",
    "from sklearn.model_selection import train_test_split\n",
    "from sklearn.naive_bayes import GaussianNB\n",
    "data = pd.read_csv(\"C:/Users/shanmugaraj/Dropbox/Project Files/Dataset1.csv\")\n",
    "X = data.drop(['cardio'], axis=1)\n",
    "y = data.cardio.copy()\n",
    "X_train, X_test, y_train, y_test = train_test_split(X, y, train_size=.8)\n",
    "model = GaussianNB()\n",
    "model.fit(X_train, y_train)\n",
    "end = time.time()\n",
    "print(\"Execution time in Seconds \", end-start)\n",
    "print(\"Accuracy \", model.score(X_test, y_test))"
   ]
  },
  {
   "cell_type": "code",
   "execution_count": null,
   "metadata": {},
   "outputs": [],
   "source": [
    "import time\n",
    "start = time.time()\n",
    "import pandas as pd\n",
    "from sklearn.model_selection import train_test_split\n",
    "from sklearn.linear_model import SGDClassifier\n",
    "data = pd.read_csv(\"C:/Users/shanmugaraj/Dropbox/Project Files/Dataset1.csv\")\n",
    "X = data.drop(['cardio'], axis=1)\n",
    "y = data.cardio.copy()\n",
    "X_train, X_test, y_train, y_test = train_test_split(X, y, train_size=.8)\n",
    "model = SGDClassifier(loss='modified_huber', shuffle=True, random_state=101)\n",
    "model.fit(X_train, y_train)\n",
    "end = time.time()\n",
    "print(\"Execution time in Seconds \", end-start)\n",
    "print(\"Accuracy \", model.score(X_test, y_test))"
   ]
  },
  {
   "cell_type": "code",
   "execution_count": null,
   "metadata": {},
   "outputs": [],
   "source": [
    "import time\n",
    "start = time.time()\n",
    "import pandas as pd\n",
    "from sklearn.model_selection import train_test_split\n",
    "from sklearn.neighbors import KNeighborsClassifier\n",
    "data = pd.read_csv(\"C:/Users/shanmugaraj/Dropbox/Project Files/Dataset1.csv\")\n",
    "X = data.drop(['cardio'], axis=1)\n",
    "y = data.cardio.copy()\n",
    "X_train, X_test, y_train, y_test = train_test_split(X, y, train_size=.8)\n",
    "model = KNeighborsClassifier(n_neighbors=15)\n",
    "model.fit(X_train, y_train)\n",
    "end = time.time()\n",
    "print(\"Execution time in Seconds \", end-start)\n",
    "print(\"Accuracy \", model.score(X_test, y_test))"
   ]
  },
  {
   "cell_type": "code",
   "execution_count": null,
   "metadata": {},
   "outputs": [],
   "source": [
    "import time\n",
    "start = time.time()\n",
    "import pandas as pd\n",
    "from sklearn.model_selection import train_test_split\n",
    "from sklearn.tree import DecisionTreeClassifier\n",
    "data = pd.read_csv(\"C:/Users/shanmugaraj/Dropbox/Project Files/Dataset1.csv\")\n",
    "X = data.drop(['cardio'], axis=1)\n",
    "y = data.cardio.copy()\n",
    "X_train, X_test, y_train, y_test = train_test_split(X, y, train_size=.8)\n",
    "model = DecisionTreeClassifier(max_depth=10, random_state=101, \n",
    "                               max_features = None, min_samples_leaf = 15)\n",
    "model.fit(X_train, y_train)\n",
    "end = time.time()\n",
    "print(\"Execution time in Seconds \", end-start)\n",
    "print(\"Accuracy \", model.score(X_test, y_test))"
   ]
  },
  {
   "cell_type": "code",
   "execution_count": null,
   "metadata": {},
   "outputs": [],
   "source": [
    "import time\n",
    "start = time.time()\n",
    "import pandas as pd\n",
    "from sklearn.model_selection import train_test_split\n",
    "from sklearn.ensemble import RandomForestClassifier\n",
    "data = pd.read_csv(\"C:/Users/shanmugaraj/Dropbox/Project Files/Dataset1.csv\")\n",
    "X = data.drop(['cardio'], axis=1)\n",
    "y = data.cardio.copy()\n",
    "X_train, X_test, y_train, y_test = train_test_split(X, y, train_size=.8)\n",
    "model = RandomForestClassifier(n_estimators=70, oob_score=True, n_jobs=-1,\n",
    "                            random_state=101, max_features = None, min_samples_leaf = 30)\n",
    "model.fit(X_train, y_train)\n",
    "end = time.time()\n",
    "print(\"Execution time in Seconds \", end-start)\n",
    "print(\"Accuracy \", model.score(X_test, y_test))"
   ]
  },
  {
   "cell_type": "code",
   "execution_count": null,
   "metadata": {},
   "outputs": [],
   "source": [
    "import time\n",
    "start = time.time()\n",
    "import pandas as pd\n",
    "from sklearn.model_selection import train_test_split\n",
    "from sklearn.svm import SVC\n",
    "data = pd.read_csv(\"C:/Users/shanmugaraj/Dropbox/Project Files/Dataset1.csv\")\n",
    "X = data.drop(['cardio'], axis=1)\n",
    "y = data.cardio.copy()\n",
    "X_train, X_test, y_train, y_test = train_test_split(X, y, train_size=.8)\n",
    "model = SVC(kernel=\"linear\", C=0.025,random_state=101)\n",
    "model.fit(X_train, y_train)\n",
    "end = time.time()\n",
    "print(\"Execution time in Seconds \", end-start)\n",
    "print(\"Accuracy \", model.score(X_test, y_test))"
   ]
  }
 ],
 "metadata": {
  "kernelspec": {
   "display_name": "Python 3",
   "language": "python",
   "name": "python3"
  },
  "language_info": {
   "codemirror_mode": {
    "name": "ipython",
    "version": 3
   },
   "file_extension": ".py",
   "mimetype": "text/x-python",
   "name": "python",
   "nbconvert_exporter": "python",
   "pygments_lexer": "ipython3",
   "version": "3.7.3"
  }
 },
 "nbformat": 4,
 "nbformat_minor": 2
}
