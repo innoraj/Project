{
  "nbformat": 4,
  "nbformat_minor": 0,
  "metadata": {
    "colab": {
      "name": "Ensemble Dataset3.ipynb",
      "version": "0.3.2",
      "provenance": [],
      "collapsed_sections": []
    },
    "kernelspec": {
      "name": "python3",
      "display_name": "Python 3"
    }
  },
  "cells": [
    {
      "cell_type": "markdown",
      "metadata": {
        "id": "RvXi0BqDsDJK",
        "colab_type": "text"
      },
      "source": [
        "**Bagging Decision Tree Algorithm**"
      ]
    },
    {
      "cell_type": "code",
      "metadata": {
        "id": "XRmIcC_UsHlF",
        "colab_type": "code",
        "colab": {}
      },
      "source": [
        "import pandas as pd\n",
        "\n",
        "from sklearn import model_selection\n",
        "from sklearn.ensemble import BaggingClassifier\n",
        "from sklearn.tree import DecisionTreeClassifier\n",
        "from sklearn.ensemble import RandomForestClassifier\n",
        "from sklearn.ensemble import ExtraTreesClassifier\n",
        "from sklearn.ensemble import AdaBoostClassifier\n",
        "from sklearn.ensemble import GradientBoostingClassifier\n",
        "from sklearn.linear_model import LogisticRegression\n",
        "from sklearn.svm import SVC\n",
        "from sklearn.ensemble import VotingClassifier\n",
        "\n",
        "data = pd.read_csv('https://raw.githubusercontent.com/innoraj/Project/master/Dataset3.csv')\n",
        "\n",
        "X = data.iloc[:,0:13]  # Independent Variables\n",
        "Y = data.iloc[:,-1]    # Target Variable"
      ],
      "execution_count": 0,
      "outputs": []
    },
    {
      "cell_type": "code",
      "metadata": {
        "id": "DF9Fbg3Ix8SD",
        "colab_type": "code",
        "outputId": "821deee8-ce06-40df-e0d1-98a062b6e725",
        "colab": {
          "base_uri": "https://localhost:8080/",
          "height": 35
        }
      },
      "source": [
        "kfold = model_selection.KFold(n_splits=10, random_state=5)\n",
        "\n",
        "cart = DecisionTreeClassifier()\n",
        "\n",
        "model = BaggingClassifier(base_estimator=cart, n_estimators=100, random_state=5)\n",
        "\n",
        "results = model_selection.cross_val_score(model, X, Y, cv=kfold)\n",
        "\n",
        "print(\"Accuracy - \", results.mean()*100)\n",
        "\n",
        "BaggingDecisionTree = results.mean()*100"
      ],
      "execution_count": 0,
      "outputs": [
        {
          "output_type": "stream",
          "text": [
            "Accuracy -  76.50537634408602\n"
          ],
          "name": "stdout"
        }
      ]
    },
    {
      "cell_type": "markdown",
      "metadata": {
        "id": "QguT9d5bxgpN",
        "colab_type": "text"
      },
      "source": [
        "**Random Forest Algorithm**"
      ]
    },
    {
      "cell_type": "code",
      "metadata": {
        "id": "QAuOugbGsHoj",
        "colab_type": "code",
        "outputId": "015a9438-e6f7-4beb-859d-9dde589e01aa",
        "colab": {
          "base_uri": "https://localhost:8080/",
          "height": 35
        }
      },
      "source": [
        "kfold = model_selection.KFold(n_splits=10, random_state=5)\n",
        "\n",
        "model = RandomForestClassifier(n_estimators=100, max_features=3)\n",
        "\n",
        "results = model_selection.cross_val_score(model, X, Y, cv=kfold)\n",
        "\n",
        "print(\"Accuracy - \",results.mean()*100)\n",
        "\n",
        "RandomForest = results.mean()*100"
      ],
      "execution_count": 0,
      "outputs": [
        {
          "output_type": "stream",
          "text": [
            "Accuracy -  79.15053763440861\n"
          ],
          "name": "stdout"
        }
      ]
    },
    {
      "cell_type": "markdown",
      "metadata": {
        "id": "9jIuGagxyN26",
        "colab_type": "text"
      },
      "source": [
        "**Extra Trees Algorithm**"
      ]
    },
    {
      "cell_type": "code",
      "metadata": {
        "id": "MG_Y5chIySmB",
        "colab_type": "code",
        "outputId": "51929ab3-5290-4dd9-e16f-12d71360eddd",
        "colab": {
          "base_uri": "https://localhost:8080/",
          "height": 35
        }
      },
      "source": [
        "kfold = model_selection.KFold(n_splits=10, random_state=5)\n",
        "\n",
        "model = ExtraTreesClassifier(n_estimators=100, max_features=5)\n",
        "\n",
        "results = model_selection.cross_val_score(model, X, Y, cv=kfold)\n",
        "\n",
        "print(\"Accuracy - \",results.mean()*100)\n",
        "\n",
        "ExtraTrees = results.mean()*100"
      ],
      "execution_count": 0,
      "outputs": [
        {
          "output_type": "stream",
          "text": [
            "Accuracy -  79.79569892473118\n"
          ],
          "name": "stdout"
        }
      ]
    },
    {
      "cell_type": "markdown",
      "metadata": {
        "id": "hIIxjb1PzjQX",
        "colab_type": "text"
      },
      "source": [
        "**Boosting Algorithm**"
      ]
    },
    {
      "cell_type": "code",
      "metadata": {
        "id": "8Sdf7RZhzL7C",
        "colab_type": "code",
        "outputId": "56e6a212-397f-411d-9590-91afd7a95c90",
        "colab": {
          "base_uri": "https://localhost:8080/",
          "height": 35
        }
      },
      "source": [
        "kfold = model_selection.KFold(n_splits=10, random_state=5)\n",
        "\n",
        "model = AdaBoostClassifier(n_estimators=30, random_state=5)\n",
        "\n",
        "results = model_selection.cross_val_score(model, X, Y, cv=kfold)\n",
        "\n",
        "print(\"Accuracy - \", results.mean()*100)\n",
        "\n",
        "AdaBoost = results.mean()*100"
      ],
      "execution_count": 0,
      "outputs": [
        {
          "output_type": "stream",
          "text": [
            "Accuracy -  76.50537634408602\n"
          ],
          "name": "stdout"
        }
      ]
    },
    {
      "cell_type": "markdown",
      "metadata": {
        "id": "4BDMZLRrzLum",
        "colab_type": "text"
      },
      "source": [
        "**Ada Boost**"
      ]
    },
    {
      "cell_type": "markdown",
      "metadata": {
        "id": "sV24yNi5znOy",
        "colab_type": "text"
      },
      "source": [
        "**Stochastic Gradient Boosting**"
      ]
    },
    {
      "cell_type": "code",
      "metadata": {
        "id": "aTKlQhpGznc0",
        "colab_type": "code",
        "outputId": "c94f3802-2da1-416f-c182-139e9eb4b0ff",
        "colab": {
          "base_uri": "https://localhost:8080/",
          "height": 35
        }
      },
      "source": [
        "kfold = model_selection.KFold(n_splits=10, random_state=5)\n",
        "\n",
        "model = GradientBoostingClassifier(n_estimators=100, random_state=5)\n",
        "\n",
        "results = model_selection.cross_val_score(model, X, Y, cv=kfold)\n",
        "\n",
        "print(\"Accuracy - \",results.mean()*100)\n",
        "\n",
        "StochasticGradientBoosting = results.mean()*100"
      ],
      "execution_count": 0,
      "outputs": [
        {
          "output_type": "stream",
          "text": [
            "Accuracy -  76.84946236559139\n"
          ],
          "name": "stdout"
        }
      ]
    },
    {
      "cell_type": "markdown",
      "metadata": {
        "id": "-e5pqcGt0CKB",
        "colab_type": "text"
      },
      "source": [
        "**Voting Ensemble**"
      ]
    },
    {
      "cell_type": "code",
      "metadata": {
        "id": "s7k77HTL0DVn",
        "colab_type": "code",
        "outputId": "a9111be1-59fa-4055-db92-ac92a7841e8e",
        "colab": {
          "base_uri": "https://localhost:8080/",
          "height": 783
        }
      },
      "source": [
        "kfold = model_selection.KFold(n_splits=10, random_state=5)\n",
        "\n",
        "estimators = []\n",
        "\n",
        "model_1 = LogisticRegression()\n",
        "estimators.append(('logistic', model_1))\n",
        "\n",
        "model_2 = DecisionTreeClassifier()\n",
        "estimators.append(('cart', model_2))\n",
        "\n",
        "model_3 = SVC()\n",
        "estimators.append(('svm', model_3))\n",
        "\n",
        "ensemble = VotingClassifier(estimators)\n",
        "results = model_selection.cross_val_score(ensemble, X, Y, cv=kfold)\n",
        "\n",
        "print(\"Accuracy - \",results.mean()*100)\n",
        "\n",
        "VotingEnsemble = results.mean()*100"
      ],
      "execution_count": 0,
      "outputs": [
        {
          "output_type": "stream",
          "text": [
            "Accuracy -  65.26881720430107\n"
          ],
          "name": "stdout"
        },
        {
          "output_type": "stream",
          "text": [
            "/usr/local/lib/python3.6/dist-packages/sklearn/linear_model/logistic.py:432: FutureWarning: Default solver will be changed to 'lbfgs' in 0.22. Specify a solver to silence this warning.\n",
            "  FutureWarning)\n",
            "/usr/local/lib/python3.6/dist-packages/sklearn/svm/base.py:193: FutureWarning: The default value of gamma will change from 'auto' to 'scale' in version 0.22 to account better for unscaled features. Set gamma explicitly to 'auto' or 'scale' to avoid this warning.\n",
            "  \"avoid this warning.\", FutureWarning)\n",
            "/usr/local/lib/python3.6/dist-packages/sklearn/linear_model/logistic.py:432: FutureWarning: Default solver will be changed to 'lbfgs' in 0.22. Specify a solver to silence this warning.\n",
            "  FutureWarning)\n",
            "/usr/local/lib/python3.6/dist-packages/sklearn/svm/base.py:193: FutureWarning: The default value of gamma will change from 'auto' to 'scale' in version 0.22 to account better for unscaled features. Set gamma explicitly to 'auto' or 'scale' to avoid this warning.\n",
            "  \"avoid this warning.\", FutureWarning)\n",
            "/usr/local/lib/python3.6/dist-packages/sklearn/linear_model/logistic.py:432: FutureWarning: Default solver will be changed to 'lbfgs' in 0.22. Specify a solver to silence this warning.\n",
            "  FutureWarning)\n",
            "/usr/local/lib/python3.6/dist-packages/sklearn/svm/base.py:193: FutureWarning: The default value of gamma will change from 'auto' to 'scale' in version 0.22 to account better for unscaled features. Set gamma explicitly to 'auto' or 'scale' to avoid this warning.\n",
            "  \"avoid this warning.\", FutureWarning)\n",
            "/usr/local/lib/python3.6/dist-packages/sklearn/linear_model/logistic.py:432: FutureWarning: Default solver will be changed to 'lbfgs' in 0.22. Specify a solver to silence this warning.\n",
            "  FutureWarning)\n",
            "/usr/local/lib/python3.6/dist-packages/sklearn/svm/base.py:193: FutureWarning: The default value of gamma will change from 'auto' to 'scale' in version 0.22 to account better for unscaled features. Set gamma explicitly to 'auto' or 'scale' to avoid this warning.\n",
            "  \"avoid this warning.\", FutureWarning)\n",
            "/usr/local/lib/python3.6/dist-packages/sklearn/linear_model/logistic.py:432: FutureWarning: Default solver will be changed to 'lbfgs' in 0.22. Specify a solver to silence this warning.\n",
            "  FutureWarning)\n",
            "/usr/local/lib/python3.6/dist-packages/sklearn/svm/base.py:193: FutureWarning: The default value of gamma will change from 'auto' to 'scale' in version 0.22 to account better for unscaled features. Set gamma explicitly to 'auto' or 'scale' to avoid this warning.\n",
            "  \"avoid this warning.\", FutureWarning)\n",
            "/usr/local/lib/python3.6/dist-packages/sklearn/linear_model/logistic.py:432: FutureWarning: Default solver will be changed to 'lbfgs' in 0.22. Specify a solver to silence this warning.\n",
            "  FutureWarning)\n",
            "/usr/local/lib/python3.6/dist-packages/sklearn/svm/base.py:193: FutureWarning: The default value of gamma will change from 'auto' to 'scale' in version 0.22 to account better for unscaled features. Set gamma explicitly to 'auto' or 'scale' to avoid this warning.\n",
            "  \"avoid this warning.\", FutureWarning)\n",
            "/usr/local/lib/python3.6/dist-packages/sklearn/linear_model/logistic.py:432: FutureWarning: Default solver will be changed to 'lbfgs' in 0.22. Specify a solver to silence this warning.\n",
            "  FutureWarning)\n",
            "/usr/local/lib/python3.6/dist-packages/sklearn/svm/base.py:193: FutureWarning: The default value of gamma will change from 'auto' to 'scale' in version 0.22 to account better for unscaled features. Set gamma explicitly to 'auto' or 'scale' to avoid this warning.\n",
            "  \"avoid this warning.\", FutureWarning)\n",
            "/usr/local/lib/python3.6/dist-packages/sklearn/linear_model/logistic.py:432: FutureWarning: Default solver will be changed to 'lbfgs' in 0.22. Specify a solver to silence this warning.\n",
            "  FutureWarning)\n",
            "/usr/local/lib/python3.6/dist-packages/sklearn/svm/base.py:193: FutureWarning: The default value of gamma will change from 'auto' to 'scale' in version 0.22 to account better for unscaled features. Set gamma explicitly to 'auto' or 'scale' to avoid this warning.\n",
            "  \"avoid this warning.\", FutureWarning)\n",
            "/usr/local/lib/python3.6/dist-packages/sklearn/linear_model/logistic.py:432: FutureWarning: Default solver will be changed to 'lbfgs' in 0.22. Specify a solver to silence this warning.\n",
            "  FutureWarning)\n",
            "/usr/local/lib/python3.6/dist-packages/sklearn/svm/base.py:193: FutureWarning: The default value of gamma will change from 'auto' to 'scale' in version 0.22 to account better for unscaled features. Set gamma explicitly to 'auto' or 'scale' to avoid this warning.\n",
            "  \"avoid this warning.\", FutureWarning)\n",
            "/usr/local/lib/python3.6/dist-packages/sklearn/linear_model/logistic.py:432: FutureWarning: Default solver will be changed to 'lbfgs' in 0.22. Specify a solver to silence this warning.\n",
            "  FutureWarning)\n",
            "/usr/local/lib/python3.6/dist-packages/sklearn/svm/base.py:193: FutureWarning: The default value of gamma will change from 'auto' to 'scale' in version 0.22 to account better for unscaled features. Set gamma explicitly to 'auto' or 'scale' to avoid this warning.\n",
            "  \"avoid this warning.\", FutureWarning)\n"
          ],
          "name": "stderr"
        }
      ]
    },
    {
      "cell_type": "markdown",
      "metadata": {
        "id": "zM544Mdt2LhR",
        "colab_type": "text"
      },
      "source": [
        "**Ensemble Models**"
      ]
    },
    {
      "cell_type": "code",
      "metadata": {
        "id": "XwFmqKPW1BiS",
        "colab_type": "code",
        "outputId": "7633e203-8c13-4d3a-d443-13de181b1495",
        "colab": {
          "base_uri": "https://localhost:8080/",
          "height": 609
        }
      },
      "source": [
        "import matplotlib.pyplot as plt; plt.rcdefaults()\n",
        "import numpy as np\n",
        "import pandas as pd\n",
        "from google.colab import files\n",
        "import matplotlib.pyplot as plt\n",
        "objects = ('Decision Tree','Random Forest ','Extra Trees','Ada Boost','Stochastic Gradient Boosting','Voting Ensemble')\n",
        "y_pos = np.arange(len(objects))\n",
        "performance = [BaggingDecisionTree, RandomForest , ExtraTrees, AdaBoost, StochasticGradientBoosting, VotingEnsemble]\n",
        "plt.bar(y_pos, performance, align='center', alpha=0.5,color='blue') \n",
        "plt.xticks(y_pos, objects,rotation=45)\n",
        "plt.ylabel('Accuracy')\n",
        "plt.title('Ensemble Models Dataset 3')\n",
        "plt.show()\n",
        "plt.savefig(\"Accuracy Ensemble Models Dataset 3.png\")\n",
        "files.download(\"Accuracy Ensemble Models Dataset 3.png\")"
      ],
      "execution_count": 0,
      "outputs": [
        {
          "output_type": "display_data",
          "data": {
            "image/png": "[encoded data removed]",
            "text/plain": [
              "<Figure size 640x480 with 1 Axes>"
            ]
          },
          "metadata": {
            "tags": []
          }
        },
        {
          "output_type": "display_data",
          "data": {
            "text/plain": [
              "<Figure size 640x480 with 0 Axes>"
            ]
          },
          "metadata": {
            "tags": []
          }
        }
      ]
    },
    {
      "cell_type": "code",
      "metadata": {
        "id": "-r2kAzD12-0Q",
        "colab_type": "code",
        "outputId": "af116e74-62f6-46d5-9107-2b2f058beab2",
        "colab": {
          "base_uri": "https://localhost:8080/",
          "height": 258
        }
      },
      "source": [
        "results = pd.DataFrame({'Model': ['Decision Tree','Random Forest','Extra Trees','Ada Boost','Stochastic Gradient Boosting','Voting Ensemble'],\n",
        "                        'Accuracy': [BaggingDecisionTree, RandomForest , ExtraTrees, AdaBoost, StochasticGradientBoosting, VotingEnsemble]})\n",
        "result_df = results.sort_values(by='Accuracy', ascending=False)\n",
        "result_df = result_df.set_index('Accuracy')\n",
        "result_df.head(6)"
      ],
      "execution_count": 0,
      "outputs": [
        {
          "output_type": "execute_result",
          "data": {
            "text/html": [
              "<div>\n",
              "<style scoped>\n",
              "    .dataframe tbody tr th:only-of-type {\n",
              "        vertical-align: middle;\n",
              "    }\n",
              "\n",
              "    .dataframe tbody tr th {\n",
              "        vertical-align: top;\n",
              "    }\n",
              "\n",
              "    .dataframe thead th {\n",
              "        text-align: right;\n",
              "    }\n",
              "</style>\n",
              "<table border=\"1\" class=\"dataframe\">\n",
              "  <thead>\n",
              "    <tr style=\"text-align: right;\">\n",
              "      <th></th>\n",
              "      <th>Model</th>\n",
              "    </tr>\n",
              "    <tr>\n",
              "      <th>Accuracy</th>\n",
              "      <th></th>\n",
              "    </tr>\n",
              "  </thead>\n",
              "  <tbody>\n",
              "    <tr>\n",
              "      <th>79.795699</th>\n",
              "      <td>Extra Trees</td>\n",
              "    </tr>\n",
              "    <tr>\n",
              "      <th>79.150538</th>\n",
              "      <td>Random Forest</td>\n",
              "    </tr>\n",
              "    <tr>\n",
              "      <th>76.849462</th>\n",
              "      <td>Stochastic Gradient Boosting</td>\n",
              "    </tr>\n",
              "    <tr>\n",
              "      <th>76.505376</th>\n",
              "      <td>Decision Tree</td>\n",
              "    </tr>\n",
              "    <tr>\n",
              "      <th>76.505376</th>\n",
              "      <td>Ada Boost</td>\n",
              "    </tr>\n",
              "    <tr>\n",
              "      <th>65.268817</th>\n",
              "      <td>Voting Ensemble</td>\n",
              "    </tr>\n",
              "  </tbody>\n",
              "</table>\n",
              "</div>"
            ],
            "text/plain": [
              "                                  Model\n",
              "Accuracy                               \n",
              "79.795699                   Extra Trees\n",
              "79.150538                 Random Forest\n",
              "76.849462  Stochastic Gradient Boosting\n",
              "76.505376                 Decision Tree\n",
              "76.505376                     Ada Boost\n",
              "65.268817               Voting Ensemble"
            ]
          },
          "metadata": {
            "tags": []
          },
          "execution_count": 9
        }
      ]
    }
  ]
}