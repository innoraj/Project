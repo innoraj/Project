{
  "nbformat": 4,
  "nbformat_minor": 0,
  "metadata": {
    "colab": {
      "name": "Classification Algorithms on Dataset2 .ipynb",
      "version": "0.3.2",
      "provenance": [],
      "collapsed_sections": [],
      "include_colab_link": true
    },
    "language_info": {
      "codemirror_mode": {
        "name": "ipython",
        "version": 3
      },
      "file_extension": ".py",
      "mimetype": "text/x-python",
      "name": "python",
      "nbconvert_exporter": "python",
      "pygments_lexer": "ipython3",
      "version": "3.7.3"
    },
    "kernelspec": {
      "name": "python3",
      "display_name": "Python 3"
    },
    "accelerator": "GPU"
  },
  "cells": [
    {
      "cell_type": "markdown",
      "metadata": {
        "id": "view-in-github",
        "colab_type": "text"
      },
      "source": [
        "<a href=\"https://colab.research.google.com/github/innoraj/Project/blob/master/Classification_Algorithms_on_Dataset2_.ipynb\" target=\"_parent\"><img src=\"https://colab.research.google.com/assets/colab-badge.svg\" alt=\"Open In Colab\"/></a>"
      ]
    },
    {
      "cell_type": "code",
      "metadata": {
        "id": "g4ZAwRz0rHsK",
        "colab_type": "code",
        "outputId": "201704b9-e4a8-48ff-c1b7-48672819f465",
        "colab": {
          "base_uri": "https://localhost:8080/",
          "height": 105
        }
      },
      "source": [
        "import time\n",
        "start = time.time()\n",
        "import pandas as pd\n",
        "from sklearn.model_selection import train_test_split\n",
        "from sklearn.linear_model import LogisticRegression\n",
        "data = pd.read_csv('https://raw.githubusercontent.com/innoraj/Project/master/Dataset2.csv')\n",
        "data.dropna(inplace=True)\n",
        "X = data.drop(['TenYearCHD'], axis=1)\n",
        "y = data.TenYearCHD.copy()\n",
        "X_train, X_test, y_train, y_test = train_test_split(X, y, train_size=.8)\n",
        "model = LogisticRegression()\n",
        "model.fit(X_train, y_train)\n",
        "end = time.time()\n",
        "print(\"Execution time in Seconds \", end-start)\n",
        "print(\"Accuracy \", model.score(X_test, y_test)*100)\n",
        "LogisticRegression = model.score(X_test, y_test)*100"
      ],
      "execution_count": 3,
      "outputs": [
        {
          "output_type": "stream",
          "text": [
            "Execution time in Seconds  0.16791200637817383\n",
            "Accuracy  86.33879781420765\n"
          ],
          "name": "stdout"
        },
        {
          "output_type": "stream",
          "text": [
            "/usr/local/lib/python3.6/dist-packages/sklearn/linear_model/logistic.py:432: FutureWarning: Default solver will be changed to 'lbfgs' in 0.22. Specify a solver to silence this warning.\n",
            "  FutureWarning)\n"
          ],
          "name": "stderr"
        }
      ]
    },
    {
      "cell_type": "code",
      "metadata": {
        "id": "ksg2rBmHrHsP",
        "colab_type": "code",
        "outputId": "f1b9fb8f-2399-4ad3-f4d4-04f1f9b4b266",
        "colab": {
          "base_uri": "https://localhost:8080/",
          "height": 51
        }
      },
      "source": [
        "import time\n",
        "start = time.time()\n",
        "import pandas as pd\n",
        "from sklearn.model_selection import train_test_split\n",
        "from sklearn.naive_bayes import GaussianNB\n",
        "data = pd.read_csv('https://raw.githubusercontent.com/innoraj/Project/master/Dataset2.csv')\n",
        "data.dropna(inplace=True)\n",
        "X = data.drop(['TenYearCHD'], axis=1)\n",
        "y = data.TenYearCHD.copy()\n",
        "X_train, X_test, y_train, y_test = train_test_split(X, y, train_size=.8)\n",
        "model = GaussianNB()\n",
        "model.fit(X_train, y_train)\n",
        "end = time.time()\n",
        "print(\"Execution time in Seconds \", end-start)\n",
        "print(\"Accuracy \", model.score(X_test, y_test)*100)\n",
        "GaussianNB = model.score(X_test, y_test)*100"
      ],
      "execution_count": 4,
      "outputs": [
        {
          "output_type": "stream",
          "text": [
            "Execution time in Seconds  0.06486701965332031\n",
            "Accuracy  81.4207650273224\n"
          ],
          "name": "stdout"
        }
      ]
    },
    {
      "cell_type": "code",
      "metadata": {
        "id": "IaE4HSEYrHsS",
        "colab_type": "code",
        "outputId": "2b944864-351a-40a9-cfc1-1f73bfc9bef3",
        "colab": {
          "base_uri": "https://localhost:8080/",
          "height": 51
        }
      },
      "source": [
        "import time\n",
        "start = time.time()\n",
        "import pandas as pd\n",
        "from sklearn.model_selection import train_test_split\n",
        "from sklearn.linear_model import SGDClassifier\n",
        "data = pd.read_csv('https://raw.githubusercontent.com/innoraj/Project/master/Dataset2.csv')\n",
        "data.dropna(inplace=True)\n",
        "X = data.drop(['TenYearCHD'], axis=1)\n",
        "y = data.TenYearCHD.copy()\n",
        "X_train, X_test, y_train, y_test = train_test_split(X, y, train_size=.8)\n",
        "model = SGDClassifier(loss='modified_huber', shuffle=True, random_state=101)\n",
        "model.fit(X_train, y_train)\n",
        "end = time.time()\n",
        "print(\"Execution time in Seconds \", end-start)\n",
        "print(\"Accuracy \", model.score(X_test, y_test)*100)\n",
        "SGDClassifier = model.score(X_test, y_test)*100"
      ],
      "execution_count": 5,
      "outputs": [
        {
          "output_type": "stream",
          "text": [
            "Execution time in Seconds  0.12933874130249023\n",
            "Accuracy  69.80874316939891\n"
          ],
          "name": "stdout"
        }
      ]
    },
    {
      "cell_type": "code",
      "metadata": {
        "id": "NZgBjQtLrHsU",
        "colab_type": "code",
        "outputId": "293e4583-a8ac-45de-a5d1-2b1187d6ab10",
        "colab": {
          "base_uri": "https://localhost:8080/",
          "height": 51
        }
      },
      "source": [
        "import time\n",
        "start = time.time()\n",
        "import pandas as pd\n",
        "from sklearn.model_selection import train_test_split\n",
        "from sklearn.neighbors import KNeighborsClassifier\n",
        "data = pd.read_csv('https://raw.githubusercontent.com/innoraj/Project/master/Dataset2.csv')\n",
        "data.dropna(inplace=True)\n",
        "X = data.drop(['TenYearCHD'], axis=1)\n",
        "y = data.TenYearCHD.copy()\n",
        "X_train, X_test, y_train, y_test = train_test_split(X, y, train_size=.8)\n",
        "model = KNeighborsClassifier(n_neighbors=15)\n",
        "model.fit(X_train, y_train)\n",
        "end = time.time()\n",
        "print(\"Execution time in Seconds \", end-start)\n",
        "print(\"Accuracy \", model.score(X_test, y_test)*100)\n",
        "KNeighborsClassifier = model.score(X_test, y_test)*100"
      ],
      "execution_count": 6,
      "outputs": [
        {
          "output_type": "stream",
          "text": [
            "Execution time in Seconds  0.10090804100036621\n",
            "Accuracy  85.79234972677595\n"
          ],
          "name": "stdout"
        }
      ]
    },
    {
      "cell_type": "code",
      "metadata": {
        "id": "kPi3vm0VrHsX",
        "colab_type": "code",
        "outputId": "f791d983-5e81-40a5-b849-75955b1ba263",
        "colab": {
          "base_uri": "https://localhost:8080/",
          "height": 51
        }
      },
      "source": [
        "import time\n",
        "start = time.time()\n",
        "import pandas as pd\n",
        "from sklearn.model_selection import train_test_split\n",
        "from sklearn.tree import DecisionTreeClassifier\n",
        "data = pd.read_csv('https://raw.githubusercontent.com/innoraj/Project/master/Dataset2.csv')\n",
        "data.dropna(inplace=True)\n",
        "X = data.drop(['TenYearCHD'], axis=1)\n",
        "y = data.TenYearCHD.copy()\n",
        "X_train, X_test, y_train, y_test = train_test_split(X, y, train_size=.8)\n",
        "model = DecisionTreeClassifier(max_depth=10, random_state=101, \n",
        "                               max_features = None, min_samples_leaf = 15)\n",
        "model.fit(X_train, y_train)\n",
        "end = time.time()\n",
        "print(\"Execution time in Seconds \", end-start)\n",
        "print(\"Accuracy \", model.score(X_test, y_test)*100)\n",
        "DecisionTreeClassifier = model.score(X_test, y_test)*100"
      ],
      "execution_count": 7,
      "outputs": [
        {
          "output_type": "stream",
          "text": [
            "Execution time in Seconds  0.08522725105285645\n",
            "Accuracy  82.78688524590164\n"
          ],
          "name": "stdout"
        }
      ]
    },
    {
      "cell_type": "code",
      "metadata": {
        "id": "ZI713EyKrHsa",
        "colab_type": "code",
        "outputId": "7eac3d59-8ed4-411b-fd17-c4202a4775ff",
        "colab": {
          "base_uri": "https://localhost:8080/",
          "height": 51
        }
      },
      "source": [
        "import time\n",
        "start = time.time()\n",
        "import pandas as pd\n",
        "from sklearn.model_selection import train_test_split\n",
        "from sklearn.ensemble import RandomForestClassifier\n",
        "data = pd.read_csv('https://raw.githubusercontent.com/innoraj/Project/master/Dataset2.csv')\n",
        "data.dropna(inplace=True)\n",
        "X = data.drop(['TenYearCHD'], axis=1)\n",
        "y = data.TenYearCHD.copy()\n",
        "X_train, X_test, y_train, y_test = train_test_split(X, y, train_size=.8)\n",
        "model = RandomForestClassifier(n_estimators=70, oob_score=True, n_jobs=-1,\n",
        "                            random_state=101, max_features = None, min_samples_leaf = 30)\n",
        "model.fit(X_train, y_train)\n",
        "end = time.time()\n",
        "print(\"Execution time in Seconds \", end-start)\n",
        "print(\"Accuracy \", model.score(X_test, y_test)*100)\n",
        "RandomForestClassifier = model.score(X_test, y_test)*100"
      ],
      "execution_count": 8,
      "outputs": [
        {
          "output_type": "stream",
          "text": [
            "Execution time in Seconds  0.8608427047729492\n",
            "Accuracy  83.7431693989071\n"
          ],
          "name": "stdout"
        }
      ]
    },
    {
      "cell_type": "code",
      "metadata": {
        "id": "Ib0T79FQrHse",
        "colab_type": "code",
        "outputId": "58cae0c6-8b2c-404f-8f6d-10ec2868352c",
        "colab": {
          "base_uri": "https://localhost:8080/",
          "height": 51
        }
      },
      "source": [
        "import time\n",
        "start = time.time()\n",
        "import pandas as pd\n",
        "from sklearn.model_selection import train_test_split\n",
        "from sklearn.svm import SVC\n",
        "data = pd.read_csv('https://raw.githubusercontent.com/innoraj/Project/master/Dataset2.csv')\n",
        "data.dropna(inplace=True)\n",
        "X = data.drop(['TenYearCHD'], axis=1)\n",
        "y = data.TenYearCHD.copy()\n",
        "X_train, X_test, y_train, y_test = train_test_split(X, y, train_size=.8)\n",
        "model = SVC(kernel=\"linear\", C=0.025,random_state=101)\n",
        "model.fit(X_train, y_train)\n",
        "end = time.time()\n",
        "print(\"Execution time in Seconds \", end-start)\n",
        "print(\"Accuracy \", model.score(X_test, y_test)*100)\n",
        "SVC = model.score(X_test, y_test)*100"
      ],
      "execution_count": 9,
      "outputs": [
        {
          "output_type": "stream",
          "text": [
            "Execution time in Seconds  67.65834784507751\n",
            "Accuracy  82.24043715846994\n"
          ],
          "name": "stdout"
        }
      ]
    },
    {
      "cell_type": "code",
      "metadata": {
        "id": "Zn_tkBfuwlni",
        "colab_type": "code",
        "colab": {
          "base_uri": "https://localhost:8080/",
          "height": 571
        },
        "outputId": "f8acf29c-c0b1-4faa-ea29-450bc6277d21"
      },
      "source": [
        "import matplotlib.pyplot as plt; plt.rcdefaults()\n",
        "import numpy as np\n",
        "import matplotlib.pyplot as plt\n",
        "objects = ('Logistic Regression','GaussianNB','SGD Classifier','KNeighbors Classifier','DecisionTree Classifier','Random Forest Classifier', 'Support Vector Classifier')\n",
        "y_pos = np.arange(len(objects))\n",
        "performance = [LogisticRegression,GaussianNB,SGDClassifier,KNeighborsClassifier,DecisionTreeClassifier,RandomForestClassifier, SVC]\n",
        "plt.bar(y_pos, performance, align='center', alpha=0.5,color='blue') \n",
        "plt.xticks(y_pos, objects,rotation=45)\n",
        "plt.ylabel('Accuracy')\n",
        "plt.title('Comparison of Model for Heart Attact Predection')\n",
        "plt.show()"
      ],
      "execution_count": 10,
      "outputs": [
        {
          "output_type": "display_data",
          "data": {
            "image/png": "[encoded data removed]",
            "text/plain": [
              "<Figure size 640x480 with 1 Axes>"
            ]
          },
          "metadata": {
            "tags": []
          }
        }
      ]
    }
  ]
}