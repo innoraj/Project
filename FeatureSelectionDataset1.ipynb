{
  "nbformat": 4,
  "nbformat_minor": 0,
  "metadata": {
    "colab": {
      "name": "FeatureSelectionDataset1.ipynb",
      "version": "0.3.2",
      "provenance": [],
      "collapsed_sections": []
    },
    "kernelspec": {
      "name": "python3",
      "display_name": "Python 3"
    }
  },
  "cells": [
    {
      "cell_type": "code",
      "metadata": {
        "id": "0d6gtDYL4OOV",
        "colab_type": "code",
        "outputId": "725579cf-be77-4b03-84bd-62ade515a83f",
        "colab": {
          "base_uri": "https://localhost:8080/",
          "height": 217
        }
      },
      "source": [
        "#Feature Selection\n",
        "import pandas as pd\n",
        "import numpy as np\n",
        "from sklearn.feature_selection import SelectKBest\n",
        "from sklearn.feature_selection import chi2\n",
        "\n",
        "data = pd.read_csv('https://raw.githubusercontent.com/innoraj/Project/master/Dataset1.csv')\n",
        "\n",
        "#Independent Variables\n",
        "X = data.iloc[:,0:13] \n",
        "#Target variable\n",
        "y = data.iloc[:,-1]   \n",
        "\n",
        "#Apply SelectKBest class to extract top 10 best features\n",
        "bestfeatures = SelectKBest(score_func=chi2, k=10)\n",
        "fit = bestfeatures.fit(X,y)\n",
        "dfscores = pd.DataFrame(fit.scores_)\n",
        "dfcolumns = pd.DataFrame(X.columns)\n",
        "\n",
        "#Concat two Dataframes for Visualization \n",
        "featureScores = pd.concat([dfcolumns,dfscores],axis=1)\n",
        "\n",
        "#Naming the dataframe columns\n",
        "featureScores.columns = ['Features','Score']\n",
        "\n",
        "#Print 10 Best features\n",
        "print(featureScores.nlargest(10,'Score'))  "
      ],
      "execution_count": 0,
      "outputs": [
        {
          "output_type": "stream",
          "text": [
            "       Features         Score\n",
            "1           age  1.241403e+06\n",
            "6         ap_lo  1.111689e+05\n",
            "5         ap_hi  3.823535e+04\n",
            "12       cardio  3.502100e+04\n",
            "0            id  1.683139e+04\n",
            "4        weight  6.451195e+03\n",
            "7   cholesterol  1.158951e+03\n",
            "8          gluc  1.490774e+02\n",
            "11       active  1.746439e+01\n",
            "9         smoke  1.530758e+01\n"
          ],
          "name": "stdout"
        }
      ]
    },
    {
      "cell_type": "code",
      "metadata": {
        "id": "CqDbo7Y35jOj",
        "colab_type": "code",
        "outputId": "bed51ec9-15c4-49b8-c184-f5fd4ec76eb0",
        "colab": {
          "base_uri": "https://localhost:8080/",
          "height": 35
        }
      },
      "source": [
        "y = data.cardio.copy()\n",
        "X = data.drop(['cardio'], axis=1)\n",
        "\n",
        "from sklearn.model_selection import train_test_split\n",
        "\n",
        "X_train, X_valid, y_train, y_valid = train_test_split(X, y, test_size=0.2, random_state=5)\n",
        "X_train.shape, X_valid.shape, y_train.shape, y_valid.shape"
      ],
      "execution_count": 0,
      "outputs": [
        {
          "output_type": "execute_result",
          "data": {
            "text/plain": [
              "((56000, 12), (14000, 12), (56000,), (14000,))"
            ]
          },
          "metadata": {
            "tags": []
          },
          "execution_count": 2
        }
      ]
    }
  ]
}