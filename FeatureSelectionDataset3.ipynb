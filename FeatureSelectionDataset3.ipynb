{
  "nbformat": 4,
  "nbformat_minor": 0,
  "metadata": {
    "colab": {
      "name": "FeatureSelectionDataset3.ipynb",
      "version": "0.3.2",
      "provenance": [],
      "collapsed_sections": []
    },
    "kernelspec": {
      "name": "python3",
      "display_name": "Python 3"
    }
  },
  "cells": [
    {
      "cell_type": "code",
      "metadata": {
        "id": "s6ngZuDt2d02",
        "colab_type": "code",
        "outputId": "d2b3d465-26a4-49ed-9ba6-3d31f50f2abc",
        "colab": {
          "base_uri": "https://localhost:8080/",
          "height": 217
        }
      },
      "source": [
        "#Feature selection\n",
        "import pandas as pd\n",
        "import numpy as np\n",
        "from sklearn.feature_selection import SelectKBest\n",
        "from sklearn.feature_selection import chi2\n",
        "\n",
        "data = pd.read_csv('https://raw.githubusercontent.com/innoraj/Project/master/Dataset3.csv')\n",
        "\n",
        "X = data.iloc[:,0:13]  #independent columns\n",
        "y = data.iloc[:,-1]    #target column \n",
        "\n",
        "#apply SelectKBest class to extract top 10 best features\n",
        "bestfeatures = SelectKBest(score_func=chi2, k=10)\n",
        "fit = bestfeatures.fit(X,y)\n",
        "dfscores = pd.DataFrame(fit.scores_)\n",
        "dfcolumns = pd.DataFrame(X.columns)\n",
        "\n",
        "#concat two dataframes for better visualization \n",
        "featureScores = pd.concat([dfcolumns,dfscores],axis=1)\n",
        "featureScores.columns = ['Features','Score']  #naming the dataframe columns\n",
        "print(featureScores.nlargest(10,'Score'))  #print 10 best features"
      ],
      "execution_count": 0,
      "outputs": [
        {
          "output_type": "stream",
          "text": [
            "    Features       Score\n",
            "7    thalach  188.320472\n",
            "9    oldpeak   72.644253\n",
            "11        ca   66.440765\n",
            "2         cp   62.598098\n",
            "8      exang   38.914377\n",
            "4       chol   23.936394\n",
            "0        age   23.286624\n",
            "3   trestbps   14.823925\n",
            "10     slope    9.804095\n",
            "1        sex    7.576835\n"
          ],
          "name": "stdout"
        }
      ]
    },
    {
      "cell_type": "code",
      "metadata": {
        "id": "bA4CRYPS34OX",
        "colab_type": "code",
        "outputId": "8a0a999d-3185-41eb-f4d9-6a459be45228",
        "colab": {
          "base_uri": "https://localhost:8080/",
          "height": 35
        }
      },
      "source": [
        "y = data.target.copy() # copy “y” column values out\n",
        "X = data.drop(['target'], axis=1) # then, drop y \n",
        "from sklearn.model_selection import train_test_split\n",
        "  # 80 % go into the training test, 20% in the validation test\n",
        "X_train, X_valid, y_train, y_valid = train_test_split(X, y, test_size=0.2, random_state=7)\n",
        "X_train.shape, X_valid.shape, y_train.shape, y_valid.shape"
      ],
      "execution_count": 0,
      "outputs": [
        {
          "output_type": "execute_result",
          "data": {
            "text/plain": [
              "((242, 13), (61, 13), (242,), (61,))"
            ]
          },
          "metadata": {
            "tags": []
          },
          "execution_count": 2
        }
      ]
    }
  ]
}