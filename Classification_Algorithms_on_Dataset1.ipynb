{
  "nbformat": 4,
  "nbformat_minor": 0,
  "metadata": {
    "colab": {
      "name": "Classification Algorithms on Dataset1.ipynb",
      "version": "0.3.2",
      "provenance": [],
      "collapsed_sections": [],
      "include_colab_link": true
    },
    "language_info": {
      "codemirror_mode": {
        "name": "ipython",
        "version": 3
      },
      "file_extension": ".py",
      "mimetype": "text/x-python",
      "name": "python",
      "nbconvert_exporter": "python",
      "pygments_lexer": "ipython3",
      "version": "3.7.3"
    },
    "kernelspec": {
      "name": "python3",
      "display_name": "Python 3"
    },
    "accelerator": "GPU"
  },
  "cells": [
    {
      "cell_type": "markdown",
      "metadata": {
        "id": "view-in-github",
        "colab_type": "text"
      },
      "source": [
        "<a href=\"https://colab.research.google.com/github/innoraj/Project/blob/master/Classification_Algorithms_on_Dataset1.ipynb\" target=\"_parent\"><img src=\"https://colab.research.google.com/assets/colab-badge.svg\" alt=\"Open In Colab\"/></a>"
      ]
    },
    {
      "cell_type": "code",
      "metadata": {
        "id": "vFQALeGTZc5F",
        "colab_type": "code",
        "outputId": "27ee29e3-cbb7-4305-fcc0-3afc14e2b61e",
        "colab": {
          "base_uri": "https://localhost:8080/",
          "height": 105
        }
      },
      "source": [
        "import time\n",
        "start = time.time()\n",
        "import pandas as pd\n",
        "from sklearn.model_selection import train_test_split\n",
        "from sklearn.linear_model import LogisticRegression\n",
        "data = pd.read_csv('https://raw.githubusercontent.com/innoraj/Project/master/Dataset1.csv')\n",
        "X = data.drop(['cardio'], axis=1)\n",
        "y = data.cardio.copy()\n",
        "X_train, X_test, y_train, y_test = train_test_split(X, y, train_size=.8)\n",
        "model = LogisticRegression()\n",
        "model.fit(X_train, y_train)\n",
        "end = time.time()\n",
        "print(\"Execution time in Seconds \", end-start)\n",
        "print(\"Accuracy \", model.score(X_test, y_test)*100)\n",
        "LogisticRegression = model.score(X_test, y_test)*100"
      ],
      "execution_count": 1,
      "outputs": [
        {
          "output_type": "stream",
          "text": [
            "/usr/local/lib/python3.6/dist-packages/sklearn/linear_model/logistic.py:432: FutureWarning: Default solver will be changed to 'lbfgs' in 0.22. Specify a solver to silence this warning.\n",
            "  FutureWarning)\n"
          ],
          "name": "stderr"
        },
        {
          "output_type": "stream",
          "text": [
            "Execution time in Seconds  1.6711781024932861\n",
            "Accuracy  70.81428571428572\n"
          ],
          "name": "stdout"
        }
      ]
    },
    {
      "cell_type": "code",
      "metadata": {
        "id": "CLJozfqGZc5J",
        "colab_type": "code",
        "outputId": "f4b63b13-654c-4db1-c906-6c4b3cce535a",
        "colab": {
          "base_uri": "https://localhost:8080/",
          "height": 51
        }
      },
      "source": [
        "import time\n",
        "start = time.time()\n",
        "import pandas as pd\n",
        "from sklearn.model_selection import train_test_split\n",
        "from sklearn.naive_bayes import GaussianNB\n",
        "data = pd.read_csv('https://raw.githubusercontent.com/innoraj/Project/master/Dataset1.csv')\n",
        "X = data.drop(['cardio'], axis=1)\n",
        "y = data.cardio.copy()\n",
        "X_train, X_test, y_train, y_test = train_test_split(X, y, train_size=.8)\n",
        "model = GaussianNB()\n",
        "model.fit(X_train, y_train)\n",
        "end = time.time()\n",
        "print(\"Execution time in Seconds \", end-start)\n",
        "print(\"Accuracy \", model.score(X_test, y_test)*100)\n",
        "GaussianNB = model.score(X_test, y_test)*100"
      ],
      "execution_count": 2,
      "outputs": [
        {
          "output_type": "stream",
          "text": [
            "Execution time in Seconds  0.1729745864868164\n",
            "Accuracy  55.54285714285714\n"
          ],
          "name": "stdout"
        }
      ]
    },
    {
      "cell_type": "code",
      "metadata": {
        "id": "1il5AXmRZc5M",
        "colab_type": "code",
        "outputId": "e19b0b3c-ea5d-461d-fcab-f3e1fa3fe6fd",
        "colab": {
          "base_uri": "https://localhost:8080/",
          "height": 51
        }
      },
      "source": [
        "import time\n",
        "start = time.time()\n",
        "import pandas as pd\n",
        "from sklearn.model_selection import train_test_split\n",
        "from sklearn.linear_model import SGDClassifier\n",
        "data = pd.read_csv('https://raw.githubusercontent.com/innoraj/Project/master/Dataset1.csv')\n",
        "X = data.drop(['cardio'], axis=1)\n",
        "y = data.cardio.copy()\n",
        "X_train, X_test, y_train, y_test = train_test_split(X, y, train_size=.8)\n",
        "model = SGDClassifier(loss='modified_huber', shuffle=True, random_state=101)\n",
        "model.fit(X_train, y_train)\n",
        "end = time.time()\n",
        "print(\"Execution time in Seconds \", end-start)\n",
        "print(\"Accuracy \", model.score(X_test, y_test)*100)\n",
        "SGDClassifier = model.score(X_test, y_test)*100"
      ],
      "execution_count": 3,
      "outputs": [
        {
          "output_type": "stream",
          "text": [
            "Execution time in Seconds  2.84340238571167\n",
            "Accuracy  57.58571428571428\n"
          ],
          "name": "stdout"
        }
      ]
    },
    {
      "cell_type": "code",
      "metadata": {
        "id": "mY88ZbYgZc5Q",
        "colab_type": "code",
        "outputId": "0d7d85c4-30ee-47ea-eee2-34d12b4b7535",
        "colab": {
          "base_uri": "https://localhost:8080/",
          "height": 51
        }
      },
      "source": [
        "import time\n",
        "start = time.time()\n",
        "import pandas as pd\n",
        "from sklearn.model_selection import train_test_split\n",
        "from sklearn.neighbors import KNeighborsClassifier\n",
        "data = pd.read_csv('https://raw.githubusercontent.com/innoraj/Project/master/Dataset1.csv')\n",
        "X = data.drop(['cardio'], axis=1)\n",
        "y = data.cardio.copy()\n",
        "X_train, X_test, y_train, y_test = train_test_split(X, y, train_size=.8)\n",
        "model = KNeighborsClassifier(n_neighbors=15)\n",
        "model.fit(X_train, y_train)\n",
        "end = time.time()\n",
        "print(\"Execution time in Seconds \", end-start)\n",
        "print(\"Accuracy \", model.score(X_test, y_test)*100)\n",
        "KNeighborsClassifier = model.score(X_test, y_test)*100"
      ],
      "execution_count": 4,
      "outputs": [
        {
          "output_type": "stream",
          "text": [
            "Execution time in Seconds  0.2866802215576172\n",
            "Accuracy  58.35\n"
          ],
          "name": "stdout"
        }
      ]
    },
    {
      "cell_type": "code",
      "metadata": {
        "id": "l6SAQRg0Zc5T",
        "colab_type": "code",
        "outputId": "0631a4d9-6ad1-4b6d-8e66-c578db8c2313",
        "colab": {
          "base_uri": "https://localhost:8080/",
          "height": 51
        }
      },
      "source": [
        "import time\n",
        "start = time.time()\n",
        "import pandas as pd\n",
        "from sklearn.model_selection import train_test_split\n",
        "from sklearn.tree import DecisionTreeClassifier\n",
        "data = pd.read_csv('https://raw.githubusercontent.com/innoraj/Project/master/Dataset1.csv')\n",
        "X = data.drop(['cardio'], axis=1)\n",
        "y = data.cardio.copy()\n",
        "X_train, X_test, y_train, y_test = train_test_split(X, y, train_size=.8)\n",
        "model = DecisionTreeClassifier(max_depth=10, random_state=101, \n",
        "                               max_features = None, min_samples_leaf = 15)\n",
        "model.fit(X_train, y_train)\n",
        "end = time.time()\n",
        "print(\"Execution time in Seconds \", end-start)\n",
        "print(\"Accuracy \", model.score(X_test, y_test)*100)\n",
        "DecisionTreeClassifier = model.score(X_test, y_test)*100"
      ],
      "execution_count": 5,
      "outputs": [
        {
          "output_type": "stream",
          "text": [
            "Execution time in Seconds  0.4024240970611572\n",
            "Accuracy  72.3\n"
          ],
          "name": "stdout"
        }
      ]
    },
    {
      "cell_type": "code",
      "metadata": {
        "id": "aBlNuIkrZc5W",
        "colab_type": "code",
        "outputId": "4f28f347-aefb-4dac-da3c-8fe33aaefee6",
        "colab": {
          "base_uri": "https://localhost:8080/",
          "height": 51
        }
      },
      "source": [
        "import time\n",
        "start = time.time()\n",
        "import pandas as pd\n",
        "from sklearn.model_selection import train_test_split\n",
        "from sklearn.ensemble import RandomForestClassifier\n",
        "data = pd.read_csv('https://raw.githubusercontent.com/innoraj/Project/master/Dataset1.csv')\n",
        "X = data.drop(['cardio'], axis=1)\n",
        "y = data.cardio.copy()\n",
        "X_train, X_test, y_train, y_test = train_test_split(X, y, train_size=.8)\n",
        "model = RandomForestClassifier(n_estimators=70, oob_score=True, n_jobs=-1,\n",
        "                            random_state=101, max_features = None, min_samples_leaf = 30)\n",
        "model.fit(X_train, y_train)\n",
        "end = time.time()\n",
        "print(\"Execution time in Seconds \", end-start)\n",
        "print(\"Accuracy \", model.score(X_test, y_test)*100)\n",
        "RandomForestClassifier = model.score(X_test, y_test)*100"
      ],
      "execution_count": 6,
      "outputs": [
        {
          "output_type": "stream",
          "text": [
            "Execution time in Seconds  10.003276824951172\n",
            "Accuracy  73.06428571428572\n"
          ],
          "name": "stdout"
        }
      ]
    },
    {
      "cell_type": "code",
      "metadata": {
        "id": "SxbaG-QXZc5a",
        "colab_type": "code",
        "colab": {}
      },
      "source": [
        "import time\n",
        "start = time.time()\n",
        "import pandas as pd\n",
        "from sklearn.model_selection import train_test_split\n",
        "from sklearn.svm import SVC\n",
        "data = pd.read_csv('https://raw.githubusercontent.com/innoraj/Project/master/Dataset1.csv')\n",
        "X = data.drop(['cardio'], axis=1)\n",
        "y = data.cardio.copy()\n",
        "X_train, X_test, y_train, y_test = train_test_split(X, y, train_size=.8)\n",
        "model = SVC(kernel=\"linear\", C=0.025,random_state=101)\n",
        "model.fit(X_train, y_train)\n",
        "end = time.time()\n",
        "print(\"Execution time in Seconds \", end-start)\n",
        "print(\"Accuracy \", model.score(X_test, y_test)*100)\n",
        "SVC = model.score(X_test, y_test)*100"
      ],
      "execution_count": 0,
      "outputs": []
    },
    {
      "cell_type": "code",
      "metadata": {
        "id": "QAS7mz6Kabco",
        "colab_type": "code",
        "colab": {}
      },
      "source": [
        "import matplotlib.pyplot as plt; plt.rcdefaults()\n",
        "import numpy as np\n",
        "import matplotlib.pyplot as plt\n",
        "objects = ('Logistic Regression','GaussianNB','SGD Classifier','KNeighbors Classifier','DecisionTree Classifier','Random Forest Classifier', 'Support Vector Classifier')\n",
        "y_pos = np.arange(len(objects))\n",
        "performance = [LogisticRegression,GaussianNB,SGDClassifier,KNeighborsClassifier,DecisionTreeClassifier,RandomForestClassifier, SVC]\n",
        "plt.bar(y_pos, performance, align='center', alpha=0.5,color='blue') \n",
        "plt.xticks(y_pos, objects,rotation=45)\n",
        "plt.ylabel('Accuracy')\n",
        "plt.title('Comparison of Model for Heart Attact Predection')\n",
        "plt.show()"
      ],
      "execution_count": 0,
      "outputs": []
    }
  ]
}