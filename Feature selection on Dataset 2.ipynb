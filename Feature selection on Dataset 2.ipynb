{
 "cells": [
  {
   "cell_type": "code",
   "execution_count": 2,
   "metadata": {},
   "outputs": [
    {
     "name": "stdout",
     "output_type": "stream",
     "text": [
      "           Specs       Score\n",
      "10         sysBP  669.136021\n",
      "14       glucose  379.914235\n",
      "1            age  296.200344\n",
      "9        totChol  250.490205\n",
      "4     cigsPerDay  155.798307\n",
      "11         diaBP  142.521814\n",
      "7   prevalentHyp   82.845455\n",
      "8       diabetes   31.067621\n",
      "5         BPMeds   28.191569\n",
      "0           male   17.107751\n"
     ]
    }
   ],
   "source": [
    "#Feature selection\n",
    "import pandas as pd\n",
    "import numpy as np\n",
    "from sklearn.feature_selection import SelectKBest\n",
    "from sklearn.feature_selection import chi2\n",
    "data = pd.read_csv(\"C:/Users/Shanmugaraj/Dropbox/Project Files/Dataset2.csv\")\n",
    "data.dropna(inplace=True)\n",
    "X = data.iloc[:,0:15]  #independent columns\n",
    "y = data.iloc[:,-1]    #target column\n",
    "#apply SelectKBest class to extract top 10 best features\n",
    "bestfeatures = SelectKBest(score_func=chi2, k=10)\n",
    "fit = bestfeatures.fit(X,y)\n",
    "dfscores = pd.DataFrame(fit.scores_)\n",
    "dfcolumns = pd.DataFrame(X.columns)\n",
    "#concat two dataframes for better visualization \n",
    "featureScores = pd.concat([dfcolumns,dfscores],axis=1)\n",
    "featureScores.columns = ['Specs','Score']  #naming the dataframe columns\n",
    "print(featureScores.nlargest(10,'Score'))  #print 10 best features"
   ]
  },
  {
   "cell_type": "code",
   "execution_count": null,
   "metadata": {},
   "outputs": [],
   "source": []
  }
 ],
 "metadata": {
  "kernelspec": {
   "display_name": "Python 3",
   "language": "python",
   "name": "python3"
  },
  "language_info": {
   "codemirror_mode": {
    "name": "ipython",
    "version": 3
   },
   "file_extension": ".py",
   "mimetype": "text/x-python",
   "name": "python",
   "nbconvert_exporter": "python",
   "pygments_lexer": "ipython3",
   "version": "3.7.3"
  }
 },
 "nbformat": 4,
 "nbformat_minor": 2
}
