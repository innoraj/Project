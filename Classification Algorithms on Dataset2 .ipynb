{
 "cells": [
  {
   "cell_type": "code",
   "execution_count": 1,
   "metadata": {},
   "outputs": [
    {
     "name": "stdout",
     "output_type": "stream",
     "text": [
      "Execution time in Seconds  3.648648738861084\n",
      "Accuracy  0.8510928961748634\n"
     ]
    },
    {
     "name": "stderr",
     "output_type": "stream",
     "text": [
      "C:\\Users\\Shanmugaraj\\Anaconda3\\lib\\site-packages\\sklearn\\model_selection\\_split.py:2179: FutureWarning: From version 0.21, test_size will always complement train_size unless both are specified.\n",
      "  FutureWarning)\n",
      "C:\\Users\\Shanmugaraj\\Anaconda3\\lib\\site-packages\\sklearn\\linear_model\\logistic.py:433: FutureWarning: Default solver will be changed to 'lbfgs' in 0.22. Specify a solver to silence this warning.\n",
      "  FutureWarning)\n"
     ]
    }
   ],
   "source": [
    "import time\n",
    "start = time.time()\n",
    "import pandas as pd\n",
    "from sklearn.model_selection import train_test_split\n",
    "from sklearn.linear_model import LogisticRegression\n",
    "data = pd.read_csv(\"C:/Users/shanmugaraj/Dropbox/Project Files/Dataset2.csv\")\n",
    "data.dropna(inplace=True)\n",
    "X = data.drop(['TenYearCHD'], axis=1)\n",
    "y = data.TenYearCHD.copy()\n",
    "X_train, X_test, y_train, y_test = train_test_split(X, y, train_size=.8)\n",
    "model = LogisticRegression()\n",
    "model.fit(X_train, y_train)\n",
    "end = time.time()\n",
    "print(\"Execution time in Seconds \", end-start)\n",
    "print(\"Accuracy \", model.score(X_test, y_test))"
   ]
  },
  {
   "cell_type": "code",
   "execution_count": 2,
   "metadata": {},
   "outputs": [
    {
     "name": "stdout",
     "output_type": "stream",
     "text": [
      "Execution time in Seconds  0.04503273963928223\n",
      "Accuracy  0.8005464480874317\n"
     ]
    },
    {
     "name": "stderr",
     "output_type": "stream",
     "text": [
      "C:\\Users\\Shanmugaraj\\Anaconda3\\lib\\site-packages\\sklearn\\model_selection\\_split.py:2179: FutureWarning: From version 0.21, test_size will always complement train_size unless both are specified.\n",
      "  FutureWarning)\n"
     ]
    }
   ],
   "source": [
    "import time\n",
    "start = time.time()\n",
    "import pandas as pd\n",
    "from sklearn.model_selection import train_test_split\n",
    "from sklearn.naive_bayes import GaussianNB\n",
    "data = pd.read_csv(\"C:/Users/shanmugaraj/Dropbox/Project Files/Dataset2.csv\")\n",
    "data.dropna(inplace=True)\n",
    "X = data.drop(['TenYearCHD'], axis=1)\n",
    "y = data.TenYearCHD.copy()\n",
    "X_train, X_test, y_train, y_test = train_test_split(X, y, train_size=.8)\n",
    "model = GaussianNB()\n",
    "model.fit(X_train, y_train)\n",
    "end = time.time()\n",
    "print(\"Execution time in Seconds \", end-start)\n",
    "print(\"Accuracy \", model.score(X_test, y_test))"
   ]
  },
  {
   "cell_type": "code",
   "execution_count": 3,
   "metadata": {},
   "outputs": [
    {
     "name": "stderr",
     "output_type": "stream",
     "text": [
      "C:\\Users\\Shanmugaraj\\Anaconda3\\lib\\site-packages\\sklearn\\model_selection\\_split.py:2179: FutureWarning: From version 0.21, test_size will always complement train_size unless both are specified.\n",
      "  FutureWarning)\n",
      "C:\\Users\\Shanmugaraj\\Anaconda3\\lib\\site-packages\\sklearn\\linear_model\\stochastic_gradient.py:166: FutureWarning: max_iter and tol parameters have been added in SGDClassifier in 0.19. If both are left unset, they default to max_iter=5 and tol=None. If tol is not None, max_iter defaults to max_iter=1000. From 0.21, default max_iter will be 1000, and default tol will be 1e-3.\n",
      "  FutureWarning)\n"
     ]
    },
    {
     "name": "stdout",
     "output_type": "stream",
     "text": [
      "Execution time in Seconds  0.04617953300476074\n",
      "Accuracy  0.8510928961748634\n"
     ]
    }
   ],
   "source": [
    "import time\n",
    "start = time.time()\n",
    "import pandas as pd\n",
    "from sklearn.model_selection import train_test_split\n",
    "from sklearn.linear_model import SGDClassifier\n",
    "data = pd.read_csv(\"C:/Users/shanmugaraj/Dropbox/Project Files/Dataset2.csv\")\n",
    "data.dropna(inplace=True)\n",
    "X = data.drop(['TenYearCHD'], axis=1)\n",
    "y = data.TenYearCHD.copy()\n",
    "X_train, X_test, y_train, y_test = train_test_split(X, y, train_size=.8)\n",
    "model = SGDClassifier(loss='modified_huber', shuffle=True, random_state=101)\n",
    "model.fit(X_train, y_train)\n",
    "end = time.time()\n",
    "print(\"Execution time in Seconds \", end-start)\n",
    "print(\"Accuracy \", model.score(X_test, y_test))"
   ]
  },
  {
   "cell_type": "code",
   "execution_count": 4,
   "metadata": {},
   "outputs": [
    {
     "name": "stdout",
     "output_type": "stream",
     "text": [
      "Execution time in Seconds  0.04503321647644043\n",
      "Accuracy  0.8360655737704918\n"
     ]
    },
    {
     "name": "stderr",
     "output_type": "stream",
     "text": [
      "C:\\Users\\Shanmugaraj\\Anaconda3\\lib\\site-packages\\sklearn\\model_selection\\_split.py:2179: FutureWarning: From version 0.21, test_size will always complement train_size unless both are specified.\n",
      "  FutureWarning)\n"
     ]
    }
   ],
   "source": [
    "import time\n",
    "start = time.time()\n",
    "import pandas as pd\n",
    "from sklearn.model_selection import train_test_split\n",
    "from sklearn.neighbors import KNeighborsClassifier\n",
    "data = pd.read_csv(\"C:/Users/shanmugaraj/Dropbox/Project Files/Dataset2.csv\")\n",
    "data.dropna(inplace=True)\n",
    "X = data.drop(['TenYearCHD'], axis=1)\n",
    "y = data.TenYearCHD.copy()\n",
    "X_train, X_test, y_train, y_test = train_test_split(X, y, train_size=.8)\n",
    "model = KNeighborsClassifier(n_neighbors=15)\n",
    "model.fit(X_train, y_train)\n",
    "end = time.time()\n",
    "print(\"Execution time in Seconds \", end-start)\n",
    "print(\"Accuracy \", model.score(X_test, y_test))"
   ]
  },
  {
   "cell_type": "code",
   "execution_count": 5,
   "metadata": {},
   "outputs": [
    {
     "name": "stdout",
     "output_type": "stream",
     "text": [
      "Execution time in Seconds  0.07318401336669922\n",
      "Accuracy  0.8169398907103825\n"
     ]
    },
    {
     "name": "stderr",
     "output_type": "stream",
     "text": [
      "C:\\Users\\Shanmugaraj\\Anaconda3\\lib\\site-packages\\sklearn\\model_selection\\_split.py:2179: FutureWarning: From version 0.21, test_size will always complement train_size unless both are specified.\n",
      "  FutureWarning)\n"
     ]
    }
   ],
   "source": [
    "import time\n",
    "start = time.time()\n",
    "import pandas as pd\n",
    "from sklearn.model_selection import train_test_split\n",
    "from sklearn.tree import DecisionTreeClassifier\n",
    "data = pd.read_csv(\"C:/Users/shanmugaraj/Dropbox/Project Files/Dataset2.csv\")\n",
    "data.dropna(inplace=True)\n",
    "X = data.drop(['TenYearCHD'], axis=1)\n",
    "y = data.TenYearCHD.copy()\n",
    "X_train, X_test, y_train, y_test = train_test_split(X, y, train_size=.8)\n",
    "model = DecisionTreeClassifier(max_depth=10, random_state=101, \n",
    "                               max_features = None, min_samples_leaf = 15)\n",
    "model.fit(X_train, y_train)\n",
    "end = time.time()\n",
    "print(\"Execution time in Seconds \", end-start)\n",
    "print(\"Accuracy \", model.score(X_test, y_test))"
   ]
  },
  {
   "cell_type": "code",
   "execution_count": 6,
   "metadata": {},
   "outputs": [
    {
     "name": "stderr",
     "output_type": "stream",
     "text": [
      "C:\\Users\\Shanmugaraj\\Anaconda3\\lib\\site-packages\\sklearn\\model_selection\\_split.py:2179: FutureWarning: From version 0.21, test_size will always complement train_size unless both are specified.\n",
      "  FutureWarning)\n"
     ]
    },
    {
     "name": "stdout",
     "output_type": "stream",
     "text": [
      "Execution time in Seconds  0.3643910884857178\n",
      "Accuracy  0.8442622950819673\n"
     ]
    }
   ],
   "source": [
    "import time\n",
    "start = time.time()\n",
    "import pandas as pd\n",
    "from sklearn.model_selection import train_test_split\n",
    "from sklearn.ensemble import RandomForestClassifier\n",
    "data = pd.read_csv(\"C:/Users/shanmugaraj/Dropbox/Project Files/Dataset2.csv\")\n",
    "data.dropna(inplace=True)\n",
    "X = data.drop(['TenYearCHD'], axis=1)\n",
    "y = data.TenYearCHD.copy()\n",
    "X_train, X_test, y_train, y_test = train_test_split(X, y, train_size=.8)\n",
    "model = RandomForestClassifier(n_estimators=70, oob_score=True, n_jobs=-1,\n",
    "                            random_state=101, max_features = None, min_samples_leaf = 30)\n",
    "model.fit(X_train, y_train)\n",
    "end = time.time()\n",
    "print(\"Execution time in Seconds \", end-start)\n",
    "print(\"Accuracy \", model.score(X_test, y_test))"
   ]
  },
  {
   "cell_type": "code",
   "execution_count": 7,
   "metadata": {},
   "outputs": [
    {
     "name": "stderr",
     "output_type": "stream",
     "text": [
      "C:\\Users\\Shanmugaraj\\Anaconda3\\lib\\site-packages\\sklearn\\model_selection\\_split.py:2179: FutureWarning: From version 0.21, test_size will always complement train_size unless both are specified.\n",
      "  FutureWarning)\n"
     ]
    },
    {
     "name": "stdout",
     "output_type": "stream",
     "text": [
      "Execution time in Seconds  42.00255823135376\n",
      "Accuracy  0.8538251366120219\n"
     ]
    }
   ],
   "source": [
    "import time\n",
    "start = time.time()\n",
    "import pandas as pd\n",
    "from sklearn.model_selection import train_test_split\n",
    "from sklearn.svm import SVC\n",
    "data = pd.read_csv(\"C:/Users/shanmugaraj/Dropbox/Project Files/Dataset2.csv\")\n",
    "data.dropna(inplace=True)\n",
    "X = data.drop(['TenYearCHD'], axis=1)\n",
    "y = data.TenYearCHD.copy()\n",
    "X_train, X_test, y_train, y_test = train_test_split(X, y, train_size=.8)\n",
    "model = SVC(kernel=\"linear\", C=0.025,random_state=101)\n",
    "model.fit(X_train, y_train)\n",
    "end = time.time()\n",
    "print(\"Execution time in Seconds \", end-start)\n",
    "print(\"Accuracy \", model.score(X_test, y_test))"
   ]
  }
 ],
 "metadata": {
  "kernelspec": {
   "display_name": "Python 3",
   "language": "python",
   "name": "python3"
  },
  "language_info": {
   "codemirror_mode": {
    "name": "ipython",
    "version": 3
   },
   "file_extension": ".py",
   "mimetype": "text/x-python",
   "name": "python",
   "nbconvert_exporter": "python",
   "pygments_lexer": "ipython3",
   "version": "3.7.3"
  }
 },
 "nbformat": 4,
 "nbformat_minor": 2
}
