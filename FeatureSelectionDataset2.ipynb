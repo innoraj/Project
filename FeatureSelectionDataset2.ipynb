{
  "nbformat": 4,
  "nbformat_minor": 0,
  "metadata": {
    "colab": {
      "name": "FeatureSelectionDataset2.ipynb",
      "version": "0.3.2",
      "provenance": [],
      "collapsed_sections": []
    },
    "kernelspec": {
      "name": "python3",
      "display_name": "Python 3"
    }
  },
  "cells": [
    {
      "cell_type": "code",
      "metadata": {
        "id": "N9Q6GPIA0f-p",
        "colab_type": "code",
        "outputId": "c0ec2a97-4baa-4ce5-dc53-1f31c5c3afa3",
        "colab": {
          "base_uri": "https://localhost:8080/",
          "height": 217
        }
      },
      "source": [
        "#Feature selection\n",
        "import pandas as pd\n",
        "import numpy as np\n",
        "from sklearn.feature_selection import SelectKBest\n",
        "from sklearn.feature_selection import chi2\n",
        "\n",
        "data = pd.read_csv('https://raw.githubusercontent.com/innoraj/Project/master/Dataset2.csv')\n",
        "data.dropna(inplace=True)\n",
        "\n",
        "X = data.iloc[:,0:13]  #independent columns\n",
        "y = data.iloc[:,-1]    #target column \n",
        "\n",
        "#apply SelectKBest class to extract top 10 best features\n",
        "bestfeatures = SelectKBest(score_func=chi2, k=10)\n",
        "fit = bestfeatures.fit(X,y)\n",
        "dfscores = pd.DataFrame(fit.scores_)\n",
        "dfcolumns = pd.DataFrame(X.columns)\n",
        "\n",
        "#Concat two dataframes for better visualization \n",
        "featureScores = pd.concat([dfcolumns,dfscores],axis=1)\n",
        "featureScores.columns = ['Features','Score']  #naming the dataframe columns\n",
        "print(featureScores.nlargest(10,'Score'))  #print 10 best features"
      ],
      "execution_count": 0,
      "outputs": [
        {
          "output_type": "stream",
          "text": [
            "        Features       Score\n",
            "10         sysBP  669.136021\n",
            "1            age  296.200344\n",
            "9        totChol  250.490205\n",
            "4     cigsPerDay  155.798307\n",
            "11         diaBP  142.521814\n",
            "7   prevalentHyp   82.845455\n",
            "8       diabetes   31.067621\n",
            "5         BPMeds   28.191569\n",
            "0           male   17.107751\n",
            "12           BMI   15.785436\n"
          ],
          "name": "stdout"
        }
      ]
    },
    {
      "cell_type": "code",
      "metadata": {
        "id": "tFRkM48k0hZO",
        "colab_type": "code",
        "outputId": "357a57ad-5285-4f36-9bcc-82dcd1c83c72",
        "colab": {
          "base_uri": "https://localhost:8080/",
          "height": 35
        }
      },
      "source": [
        "y = data.TenYearCHD.copy()\n",
        "X = data.drop(['TenYearCHD'], axis=1)\n",
        "from sklearn.model_selection import train_test_split\n",
        "X_train, X_valid, y_train, y_valid = train_test_split(X, y, test_size=0.2, random_state=7)\n",
        "X_train.shape, X_valid.shape, y_train.shape, y_valid.shape"
      ],
      "execution_count": 0,
      "outputs": [
        {
          "output_type": "execute_result",
          "data": {
            "text/plain": [
              "((2926, 15), (732, 15), (2926,), (732,))"
            ]
          },
          "metadata": {
            "tags": []
          },
          "execution_count": 2
        }
      ]
    }
  ]
}