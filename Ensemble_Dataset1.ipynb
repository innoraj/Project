{
  "nbformat": 4,
  "nbformat_minor": 0,
  "metadata": {
    "colab": {
      "name": "Ensemble Dataset1.ipynb",
      "version": "0.3.2",
      "provenance": [],
      "collapsed_sections": []
    },
    "kernelspec": {
      "name": "python3",
      "display_name": "Python 3"
    }
  },
  "cells": [
    {
      "cell_type": "markdown",
      "metadata": {
        "id": "RvXi0BqDsDJK",
        "colab_type": "text"
      },
      "source": [
        "**Bagging Decision Tree Algorithm**"
      ]
    },
    {
      "cell_type": "code",
      "metadata": {
        "id": "XRmIcC_UsHlF",
        "colab_type": "code",
        "colab": {}
      },
      "source": [
        "import pandas as pd\n",
        "\n",
        "from sklearn import model_selection\n",
        "from sklearn.ensemble import BaggingClassifier\n",
        "from sklearn.tree import DecisionTreeClassifier\n",
        "from sklearn.ensemble import RandomForestClassifier\n",
        "from sklearn.ensemble import ExtraTreesClassifier\n",
        "from sklearn.ensemble import AdaBoostClassifier\n",
        "from sklearn.ensemble import GradientBoostingClassifier\n",
        "from sklearn.linear_model import LogisticRegression\n",
        "from sklearn.svm import SVC\n",
        "from sklearn.ensemble import VotingClassifier\n",
        "\n",
        "data = pd.read_csv('https://raw.githubusercontent.com/innoraj/Project/master/Dataset1.csv')\n",
        "\n",
        "X = data.iloc[:,0:12]  # Independent Variables\n",
        "Y = data.iloc[:,-1]    # Target Variable"
      ],
      "execution_count": 0,
      "outputs": []
    },
    {
      "cell_type": "code",
      "metadata": {
        "id": "DF9Fbg3Ix8SD",
        "colab_type": "code",
        "outputId": "2c361d64-dab4-40ed-db95-393ab2b81b69",
        "colab": {
          "base_uri": "https://localhost:8080/",
          "height": 34
        }
      },
      "source": [
        "kfold = model_selection.KFold(n_splits=10, random_state=5)\n",
        "\n",
        "cart = DecisionTreeClassifier()\n",
        "\n",
        "model = BaggingClassifier(base_estimator=cart, n_estimators=100, random_state=5)\n",
        "\n",
        "results = model_selection.cross_val_score(model, X, Y, cv=kfold)\n",
        "\n",
        "print(\"Accuracy - \", results.mean()*100)\n",
        "\n",
        "BaggingDecisionTree = results.mean()*100"
      ],
      "execution_count": 0,
      "outputs": [
        {
          "output_type": "stream",
          "text": [
            "Accuracy -  71.38571428571429\n"
          ],
          "name": "stdout"
        }
      ]
    },
    {
      "cell_type": "markdown",
      "metadata": {
        "id": "QguT9d5bxgpN",
        "colab_type": "text"
      },
      "source": [
        "**Random Forest Algorithm**"
      ]
    },
    {
      "cell_type": "code",
      "metadata": {
        "id": "QAuOugbGsHoj",
        "colab_type": "code",
        "outputId": "b78b9a9e-bd27-4525-b9ca-4a0625566b9f",
        "colab": {
          "base_uri": "https://localhost:8080/",
          "height": 34
        }
      },
      "source": [
        "kfold = model_selection.KFold(n_splits=10, random_state=5)\n",
        "\n",
        "model = RandomForestClassifier(n_estimators=100, max_features=3)\n",
        "\n",
        "results = model_selection.cross_val_score(model, X, Y, cv=kfold)\n",
        "\n",
        "print(\"Accuracy - \",results.mean()*100)\n",
        "\n",
        "RandomForest = results.mean()*100"
      ],
      "execution_count": 0,
      "outputs": [
        {
          "output_type": "stream",
          "text": [
            "Accuracy -  72.37571428571428\n"
          ],
          "name": "stdout"
        }
      ]
    },
    {
      "cell_type": "markdown",
      "metadata": {
        "id": "9jIuGagxyN26",
        "colab_type": "text"
      },
      "source": [
        "**Extra Trees Algorithm**"
      ]
    },
    {
      "cell_type": "code",
      "metadata": {
        "id": "MG_Y5chIySmB",
        "colab_type": "code",
        "outputId": "e66bce63-eb12-44f9-c5b0-aceae1bbf6f9",
        "colab": {
          "base_uri": "https://localhost:8080/",
          "height": 34
        }
      },
      "source": [
        "kfold = model_selection.KFold(n_splits=10, random_state=5)\n",
        "\n",
        "model = ExtraTreesClassifier(n_estimators=100, max_features=7)\n",
        "\n",
        "results = model_selection.cross_val_score(model, X, Y, cv=kfold)\n",
        "\n",
        "print(\"Accuracy - \",results.mean()*100)\n",
        "\n",
        "ExtraTrees = results.mean()*100"
      ],
      "execution_count": 0,
      "outputs": [
        {
          "output_type": "stream",
          "text": [
            "Accuracy -  71.1842857142857\n"
          ],
          "name": "stdout"
        }
      ]
    },
    {
      "cell_type": "markdown",
      "metadata": {
        "id": "hIIxjb1PzjQX",
        "colab_type": "text"
      },
      "source": [
        "**Boosting Algorithm**"
      ]
    },
    {
      "cell_type": "code",
      "metadata": {
        "id": "8Sdf7RZhzL7C",
        "colab_type": "code",
        "outputId": "b2facab5-8679-4142-d719-6c659e4d0105",
        "colab": {
          "base_uri": "https://localhost:8080/",
          "height": 34
        }
      },
      "source": [
        "kfold = model_selection.KFold(n_splits=10, random_state=5)\n",
        "\n",
        "model = AdaBoostClassifier(n_estimators=30, random_state=5)\n",
        "\n",
        "results = model_selection.cross_val_score(model, X, Y, cv=kfold)\n",
        "\n",
        "print(\"Accuracy - \", results.mean()*100)\n",
        "\n",
        "AdaBoost = results.mean()*100"
      ],
      "execution_count": 0,
      "outputs": [
        {
          "output_type": "stream",
          "text": [
            "Accuracy -  72.86142857142856\n"
          ],
          "name": "stdout"
        }
      ]
    },
    {
      "cell_type": "markdown",
      "metadata": {
        "id": "4BDMZLRrzLum",
        "colab_type": "text"
      },
      "source": [
        "**Ada Boost**"
      ]
    },
    {
      "cell_type": "markdown",
      "metadata": {
        "id": "sV24yNi5znOy",
        "colab_type": "text"
      },
      "source": [
        "**Stochastic Gradient Boosting**"
      ]
    },
    {
      "cell_type": "code",
      "metadata": {
        "id": "aTKlQhpGznc0",
        "colab_type": "code",
        "outputId": "322a3136-e6cb-4d49-ad36-5dc41560f8c0",
        "colab": {
          "base_uri": "https://localhost:8080/",
          "height": 34
        }
      },
      "source": [
        "kfold = model_selection.KFold(n_splits=10, random_state=5)\n",
        "\n",
        "model = GradientBoostingClassifier(n_estimators=100, random_state=5)\n",
        "\n",
        "results = model_selection.cross_val_score(model, X, Y, cv=kfold)\n",
        "\n",
        "print(\"Accuracy - \",results.mean()*100)\n",
        "\n",
        "StochasticGradientBoosting = results.mean()*100"
      ],
      "execution_count": 0,
      "outputs": [
        {
          "output_type": "stream",
          "text": [
            "Accuracy -  73.5142857142857\n"
          ],
          "name": "stdout"
        }
      ]
    },
    {
      "cell_type": "markdown",
      "metadata": {
        "id": "-e5pqcGt0CKB",
        "colab_type": "text"
      },
      "source": [
        "**Voting Ensemble**"
      ]
    },
    {
      "cell_type": "code",
      "metadata": {
        "id": "s7k77HTL0DVn",
        "colab_type": "code",
        "outputId": "683c8d3c-4bff-462a-9359-6fe1a4d5c51f",
        "colab": {
          "base_uri": "https://localhost:8080/",
          "height": 734
        }
      },
      "source": [
        "kfold = model_selection.KFold(n_splits=10, random_state=5)\n",
        "\n",
        "estimators = []\n",
        "\n",
        "model_1 = LogisticRegression()\n",
        "estimators.append(('logistic', model_1))\n",
        "\n",
        "model_2 = DecisionTreeClassifier()\n",
        "estimators.append(('cart', model_2))\n",
        "\n",
        "model_3 = SVC()\n",
        "estimators.append(('svm', model_3))\n",
        "\n",
        "ensemble = VotingClassifier(estimators)\n",
        "results = model_selection.cross_val_score(ensemble, X, Y, cv=kfold)\n",
        "\n",
        "print(\"Accuracy - \",results.mean()*100)\n",
        "\n",
        "VotingEnsemble = results.mean()*100"
      ],
      "execution_count": 0,
      "outputs": [
        {
          "output_type": "stream",
          "text": [
            "/usr/local/lib/python3.6/dist-packages/sklearn/linear_model/logistic.py:432: FutureWarning: Default solver will be changed to 'lbfgs' in 0.22. Specify a solver to silence this warning.\n",
            "  FutureWarning)\n",
            "/usr/local/lib/python3.6/dist-packages/sklearn/svm/base.py:193: FutureWarning: The default value of gamma will change from 'auto' to 'scale' in version 0.22 to account better for unscaled features. Set gamma explicitly to 'auto' or 'scale' to avoid this warning.\n",
            "  \"avoid this warning.\", FutureWarning)\n",
            "/usr/local/lib/python3.6/dist-packages/sklearn/linear_model/logistic.py:432: FutureWarning: Default solver will be changed to 'lbfgs' in 0.22. Specify a solver to silence this warning.\n",
            "  FutureWarning)\n",
            "/usr/local/lib/python3.6/dist-packages/sklearn/svm/base.py:193: FutureWarning: The default value of gamma will change from 'auto' to 'scale' in version 0.22 to account better for unscaled features. Set gamma explicitly to 'auto' or 'scale' to avoid this warning.\n",
            "  \"avoid this warning.\", FutureWarning)\n",
            "/usr/local/lib/python3.6/dist-packages/sklearn/linear_model/logistic.py:432: FutureWarning: Default solver will be changed to 'lbfgs' in 0.22. Specify a solver to silence this warning.\n",
            "  FutureWarning)\n",
            "/usr/local/lib/python3.6/dist-packages/sklearn/svm/base.py:193: FutureWarning: The default value of gamma will change from 'auto' to 'scale' in version 0.22 to account better for unscaled features. Set gamma explicitly to 'auto' or 'scale' to avoid this warning.\n",
            "  \"avoid this warning.\", FutureWarning)\n",
            "/usr/local/lib/python3.6/dist-packages/sklearn/linear_model/logistic.py:432: FutureWarning: Default solver will be changed to 'lbfgs' in 0.22. Specify a solver to silence this warning.\n",
            "  FutureWarning)\n",
            "/usr/local/lib/python3.6/dist-packages/sklearn/svm/base.py:193: FutureWarning: The default value of gamma will change from 'auto' to 'scale' in version 0.22 to account better for unscaled features. Set gamma explicitly to 'auto' or 'scale' to avoid this warning.\n",
            "  \"avoid this warning.\", FutureWarning)\n",
            "/usr/local/lib/python3.6/dist-packages/sklearn/linear_model/logistic.py:432: FutureWarning: Default solver will be changed to 'lbfgs' in 0.22. Specify a solver to silence this warning.\n",
            "  FutureWarning)\n",
            "/usr/local/lib/python3.6/dist-packages/sklearn/svm/base.py:193: FutureWarning: The default value of gamma will change from 'auto' to 'scale' in version 0.22 to account better for unscaled features. Set gamma explicitly to 'auto' or 'scale' to avoid this warning.\n",
            "  \"avoid this warning.\", FutureWarning)\n",
            "/usr/local/lib/python3.6/dist-packages/sklearn/linear_model/logistic.py:432: FutureWarning: Default solver will be changed to 'lbfgs' in 0.22. Specify a solver to silence this warning.\n",
            "  FutureWarning)\n",
            "/usr/local/lib/python3.6/dist-packages/sklearn/svm/base.py:193: FutureWarning: The default value of gamma will change from 'auto' to 'scale' in version 0.22 to account better for unscaled features. Set gamma explicitly to 'auto' or 'scale' to avoid this warning.\n",
            "  \"avoid this warning.\", FutureWarning)\n",
            "/usr/local/lib/python3.6/dist-packages/sklearn/linear_model/logistic.py:432: FutureWarning: Default solver will be changed to 'lbfgs' in 0.22. Specify a solver to silence this warning.\n",
            "  FutureWarning)\n",
            "/usr/local/lib/python3.6/dist-packages/sklearn/svm/base.py:193: FutureWarning: The default value of gamma will change from 'auto' to 'scale' in version 0.22 to account better for unscaled features. Set gamma explicitly to 'auto' or 'scale' to avoid this warning.\n",
            "  \"avoid this warning.\", FutureWarning)\n",
            "/usr/local/lib/python3.6/dist-packages/sklearn/linear_model/logistic.py:432: FutureWarning: Default solver will be changed to 'lbfgs' in 0.22. Specify a solver to silence this warning.\n",
            "  FutureWarning)\n",
            "/usr/local/lib/python3.6/dist-packages/sklearn/svm/base.py:193: FutureWarning: The default value of gamma will change from 'auto' to 'scale' in version 0.22 to account better for unscaled features. Set gamma explicitly to 'auto' or 'scale' to avoid this warning.\n",
            "  \"avoid this warning.\", FutureWarning)\n",
            "/usr/local/lib/python3.6/dist-packages/sklearn/linear_model/logistic.py:432: FutureWarning: Default solver will be changed to 'lbfgs' in 0.22. Specify a solver to silence this warning.\n",
            "  FutureWarning)\n",
            "/usr/local/lib/python3.6/dist-packages/sklearn/svm/base.py:193: FutureWarning: The default value of gamma will change from 'auto' to 'scale' in version 0.22 to account better for unscaled features. Set gamma explicitly to 'auto' or 'scale' to avoid this warning.\n",
            "  \"avoid this warning.\", FutureWarning)\n",
            "/usr/local/lib/python3.6/dist-packages/sklearn/linear_model/logistic.py:432: FutureWarning: Default solver will be changed to 'lbfgs' in 0.22. Specify a solver to silence this warning.\n",
            "  FutureWarning)\n",
            "/usr/local/lib/python3.6/dist-packages/sklearn/svm/base.py:193: FutureWarning: The default value of gamma will change from 'auto' to 'scale' in version 0.22 to account better for unscaled features. Set gamma explicitly to 'auto' or 'scale' to avoid this warning.\n",
            "  \"avoid this warning.\", FutureWarning)\n"
          ],
          "name": "stderr"
        },
        {
          "output_type": "stream",
          "text": [
            "Accuracy -  66.67714285714285\n"
          ],
          "name": "stdout"
        }
      ]
    },
    {
      "cell_type": "markdown",
      "metadata": {
        "id": "zM544Mdt2LhR",
        "colab_type": "text"
      },
      "source": [
        "**Ensemble Models**"
      ]
    },
    {
      "cell_type": "code",
      "metadata": {
        "id": "XwFmqKPW1BiS",
        "colab_type": "code",
        "outputId": "4569da75-597c-49fd-d81b-6b5587d83f07",
        "colab": {
          "base_uri": "https://localhost:8080/",
          "height": 608
        }
      },
      "source": [
        "import matplotlib.pyplot as plt; plt.rcdefaults()\n",
        "import numpy as np\n",
        "import matplotlib.pyplot as plt\n",
        "from google.colab import files\n",
        "objects = ('Decision Tree','Random Forest ','Extra Trees','Ada Boost','Stochastic Gradient Boosting','Voting Ensemble')\n",
        "y_pos = np.arange(len(objects))\n",
        "performance = [BaggingDecisionTree, RandomForest , ExtraTrees, AdaBoost, StochasticGradientBoosting, VotingEnsemble]\n",
        "plt.bar(y_pos, performance, align='center', alpha=0.5,color='blue') \n",
        "plt.xticks(y_pos, objects,rotation=45)\n",
        "plt.ylabel('Accuracy')\n",
        "plt.title('Ensemble Models Dataset 1')\n",
        "plt.show()\n",
        "plt.savefig(\"Accuracy Ensemble Models Dataset 1.png\")\n",
        "files.download(\"Accuracy Ensemble Models Dataset 1.png\")"
      ],
      "execution_count": 0,
      "outputs": [
        {
          "output_type": "display_data",
          "data": {
            "image/png": "[encoded data removed]",
            "text/plain": [
              "<Figure size 640x480 with 1 Axes>"
            ]
          },
          "metadata": {
            "tags": []
          }
        },
        {
          "output_type": "display_data",
          "data": {
            "text/plain": [
              "<Figure size 640x480 with 0 Axes>"
            ]
          },
          "metadata": {
            "tags": []
          }
        }
      ]
    },
    {
      "cell_type": "code",
      "metadata": {
        "id": "-r2kAzD12-0Q",
        "colab_type": "code",
        "outputId": "ee684622-a979-4faa-ec3c-f02b35a72841",
        "colab": {
          "base_uri": "https://localhost:8080/",
          "height": 266
        }
      },
      "source": [
        "results = pd.DataFrame({'Model': ['Decision Tree','Random Forest','Extra Trees','Ada Boost','Stochastic Gradient Boosting','Voting Ensemble'],\n",
        "                        'Accuracy': [BaggingDecisionTree, RandomForest , ExtraTrees, AdaBoost, StochasticGradientBoosting, VotingEnsemble]})\n",
        "result_df = results.sort_values(by='Accuracy', ascending=False)\n",
        "result_df = result_df.set_index('Accuracy')\n",
        "result_df.head(8)"
      ],
      "execution_count": 0,
      "outputs": [
        {
          "output_type": "execute_result",
          "data": {
            "text/html": [
              "<div>\n",
              "<style scoped>\n",
              "    .dataframe tbody tr th:only-of-type {\n",
              "        vertical-align: middle;\n",
              "    }\n",
              "\n",
              "    .dataframe tbody tr th {\n",
              "        vertical-align: top;\n",
              "    }\n",
              "\n",
              "    .dataframe thead th {\n",
              "        text-align: right;\n",
              "    }\n",
              "</style>\n",
              "<table border=\"1\" class=\"dataframe\">\n",
              "  <thead>\n",
              "    <tr style=\"text-align: right;\">\n",
              "      <th></th>\n",
              "      <th>Model</th>\n",
              "    </tr>\n",
              "    <tr>\n",
              "      <th>Accuracy</th>\n",
              "      <th></th>\n",
              "    </tr>\n",
              "  </thead>\n",
              "  <tbody>\n",
              "    <tr>\n",
              "      <th>73.514286</th>\n",
              "      <td>Stochastic Gradient Boosting</td>\n",
              "    </tr>\n",
              "    <tr>\n",
              "      <th>72.861429</th>\n",
              "      <td>Ada Boost</td>\n",
              "    </tr>\n",
              "    <tr>\n",
              "      <th>72.375714</th>\n",
              "      <td>Random Forest</td>\n",
              "    </tr>\n",
              "    <tr>\n",
              "      <th>71.385714</th>\n",
              "      <td>Decision Tree</td>\n",
              "    </tr>\n",
              "    <tr>\n",
              "      <th>71.184286</th>\n",
              "      <td>Extra Trees</td>\n",
              "    </tr>\n",
              "    <tr>\n",
              "      <th>66.677143</th>\n",
              "      <td>Voting Ensemble</td>\n",
              "    </tr>\n",
              "  </tbody>\n",
              "</table>\n",
              "</div>"
            ],
            "text/plain": [
              "                                  Model\n",
              "Accuracy                               \n",
              "73.514286  Stochastic Gradient Boosting\n",
              "72.861429                     Ada Boost\n",
              "72.375714                 Random Forest\n",
              "71.385714                 Decision Tree\n",
              "71.184286                   Extra Trees\n",
              "66.677143               Voting Ensemble"
            ]
          },
          "metadata": {
            "tags": []
          },
          "execution_count": 19
        }
      ]
    }
  ]
}